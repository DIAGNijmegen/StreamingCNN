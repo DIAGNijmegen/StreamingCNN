{
 "cells": [
  {
   "cell_type": "markdown",
   "metadata": {},
   "source": [
    "# Pytorch bug"
   ]
  },
  {
   "cell_type": "code",
   "execution_count": 1,
   "metadata": {
    "ExecuteTime": {
     "end_time": "2018-05-19T16:15:55.476676Z",
     "start_time": "2018-05-19T16:15:55.213434Z"
    },
    "collapsed": true
   },
   "outputs": [],
   "source": [
    "import torch"
   ]
  },
  {
   "cell_type": "code",
   "execution_count": 2,
   "metadata": {
    "ExecuteTime": {
     "end_time": "2018-05-19T16:15:55.480184Z",
     "start_time": "2018-05-19T16:15:55.477743Z"
    },
    "collapsed": true
   },
   "outputs": [],
   "source": [
    "torch.set_printoptions(precision=9)"
   ]
  },
  {
   "cell_type": "code",
   "execution_count": 3,
   "metadata": {
    "ExecuteTime": {
     "end_time": "2018-05-19T16:15:55.488689Z",
     "start_time": "2018-05-19T16:15:55.482075Z"
    },
    "collapsed": true
   },
   "outputs": [],
   "source": [
    "torch.manual_seed(1)\n",
    "data = torch.autograd.Variable( torch.FloatTensor(3, 3, 4).normal_(0, 1) )[None]"
   ]
  },
  {
   "cell_type": "code",
   "execution_count": 4,
   "metadata": {
    "ExecuteTime": {
     "end_time": "2018-05-19T16:15:55.498745Z",
     "start_time": "2018-05-19T16:15:55.489881Z"
    }
   },
   "outputs": [
    {
     "data": {
      "text/plain": [
       "tensor([[[[-1.525595903, -0.750231802, -0.653980911, -1.609484792],\n",
       "          [-0.100167178, -0.609188914, -0.979772270, -1.609096289],\n",
       "          [-0.712144613, 0.303721994, -0.777314305, -0.251455247]],\n",
       "\n",
       "         [[-0.222270489, 1.687113404, 0.228425175, 0.467635512],\n",
       "          [-0.696972430, -1.160761476, 0.699542403, 0.199081630],\n",
       "          [0.199056506, 0.045702778, 0.152956918, -0.475678802]],\n",
       "\n",
       "         [[-1.882142544, -0.776545048, 2.024202108, -0.086541198],\n",
       "          [2.357110977, -1.037338734, 1.574798107, -0.629847229],\n",
       "          [2.406978130, 0.278566241, 0.246752918, 1.184326649]]]])"
      ]
     },
     "execution_count": 4,
     "metadata": {},
     "output_type": "execute_result"
    }
   ],
   "source": [
    "data"
   ]
  },
  {
   "cell_type": "markdown",
   "metadata": {},
   "source": [
    "### Manual executions of convolutions "
   ]
  },
  {
   "cell_type": "code",
   "execution_count": 5,
   "metadata": {
    "ExecuteTime": {
     "end_time": "2018-05-19T16:15:55.502916Z",
     "start_time": "2018-05-19T16:15:55.499804Z"
    }
   },
   "outputs": [
    {
     "data": {
      "text/plain": [
       "tensor(1.00000e-02 *\n",
       "       1.282003708)"
      ]
     },
     "execution_count": 5,
     "metadata": {},
     "output_type": "execute_result"
    }
   ],
   "source": [
    "# First conv2d\n",
    "torch.sum(data[:,:,0:3,0:3] * 0.04)"
   ]
  },
  {
   "cell_type": "code",
   "execution_count": 6,
   "metadata": {
    "ExecuteTime": {
     "end_time": "2018-05-19T16:15:55.507051Z",
     "start_time": "2018-05-19T16:15:55.503974Z"
    }
   },
   "outputs": [
    {
     "data": {
      "text/plain": [
       "tensor(1.00000e-02 *\n",
       "       -9.257644415)"
      ]
     },
     "execution_count": 6,
     "metadata": {},
     "output_type": "execute_result"
    }
   ],
   "source": [
    "# Second conv2d\n",
    "torch.sum(data[:,:,0:3,1:4] * 0.04)"
   ]
  },
  {
   "cell_type": "markdown",
   "metadata": {},
   "source": [
    "### Execution of convolutions via layer"
   ]
  },
  {
   "cell_type": "code",
   "execution_count": 7,
   "metadata": {
    "ExecuteTime": {
     "end_time": "2018-05-19T16:15:55.512996Z",
     "start_time": "2018-05-19T16:15:55.508220Z"
    }
   },
   "outputs": [
    {
     "data": {
      "text/plain": [
       "Conv2d(3, 1, kernel_size=(3, 3), stride=(1, 1))"
      ]
     },
     "execution_count": 7,
     "metadata": {},
     "output_type": "execute_result"
    }
   ],
   "source": [
    "layer = torch.nn.Conv2d(3, 1, kernel_size=3)\n",
    "layer.weight.data.fill_(0.04)\n",
    "layer.bias.data.fill_(0)\n",
    "layer"
   ]
  },
  {
   "cell_type": "code",
   "execution_count": 8,
   "metadata": {
    "ExecuteTime": {
     "end_time": "2018-05-19T16:15:55.518963Z",
     "start_time": "2018-05-19T16:15:55.513996Z"
    }
   },
   "outputs": [
    {
     "data": {
      "text/plain": [
       "tensor(1.00000e-02 *\n",
       "       [[[[1.282003429, -9.257646650]]]])"
      ]
     },
     "execution_count": 8,
     "metadata": {},
     "output_type": "execute_result"
    }
   ],
   "source": [
    "layer(data)"
   ]
  },
  {
   "cell_type": "markdown",
   "metadata": {},
   "source": [
    "**--> Only the second convolution seems to be correct**"
   ]
  },
  {
   "cell_type": "markdown",
   "metadata": {},
   "source": [
    "### Behaviour with multiple filters:"
   ]
  },
  {
   "cell_type": "code",
   "execution_count": 9,
   "metadata": {
    "ExecuteTime": {
     "end_time": "2018-05-19T16:15:55.525866Z",
     "start_time": "2018-05-19T16:15:55.519949Z"
    }
   },
   "outputs": [
    {
     "data": {
      "text/plain": [
       "Conv2d(3, 2, kernel_size=(3, 3), stride=(1, 1))"
      ]
     },
     "execution_count": 9,
     "metadata": {},
     "output_type": "execute_result"
    }
   ],
   "source": [
    "layer = torch.nn.Conv2d(3, 2, kernel_size=3)\n",
    "layer.weight.data.fill_(0.04)\n",
    "layer.bias.data.fill_(0)\n",
    "layer"
   ]
  },
  {
   "cell_type": "code",
   "execution_count": 10,
   "metadata": {
    "ExecuteTime": {
     "end_time": "2018-05-19T16:15:55.531467Z",
     "start_time": "2018-05-19T16:15:55.527568Z"
    }
   },
   "outputs": [
    {
     "data": {
      "text/plain": [
       "tensor(1.00000e-02 *\n",
       "       [[[[1.282002497, -9.257643670]],\n",
       "\n",
       "         [[1.282002497, -9.257643670]]]])"
      ]
     },
     "execution_count": 10,
     "metadata": {},
     "output_type": "execute_result"
    }
   ],
   "source": [
    "layer(data)"
   ]
  },
  {
   "cell_type": "markdown",
   "metadata": {},
   "source": [
    "**--> This result is different from the first, only by adding a filter**\n",
    "\n",
    "Another behaviour: execute the layer on the first part of the data"
   ]
  },
  {
   "cell_type": "code",
   "execution_count": 11,
   "metadata": {
    "ExecuteTime": {
     "end_time": "2018-05-19T16:15:55.537815Z",
     "start_time": "2018-05-19T16:15:55.533274Z"
    }
   },
   "outputs": [
    {
     "data": {
      "text/plain": [
       "tensor(1.00000e-02 *\n",
       "       [[[[1.282002777]],\n",
       "\n",
       "         [[1.282002777]]]])"
      ]
     },
     "execution_count": 11,
     "metadata": {},
     "output_type": "execute_result"
    }
   ],
   "source": [
    "layer(data[:,:,0:3,0:3])"
   ]
  },
  {
   "cell_type": "markdown",
   "metadata": {},
   "source": [
    "**--> If I understand it correctly, this should be the same as the first column of cell 10**"
   ]
  },
  {
   "cell_type": "code",
   "execution_count": null,
   "metadata": {
    "collapsed": true
   },
   "outputs": [],
   "source": []
  }
 ],
 "metadata": {
  "kernelspec": {
   "display_name": "Python 3",
   "language": "python",
   "name": "python3"
  },
  "language_info": {
   "codemirror_mode": {
    "name": "ipython",
    "version": 3
   },
   "file_extension": ".py",
   "mimetype": "text/x-python",
   "name": "python",
   "nbconvert_exporter": "python",
   "pygments_lexer": "ipython3",
   "version": "3.6.4"
  },
  "toc": {
   "nav_menu": {},
   "number_sections": true,
   "sideBar": true,
   "skip_h1_title": false,
   "title_cell": "Table of Contents",
   "title_sidebar": "Contents",
   "toc_cell": false,
   "toc_position": {
    "height": "calc(100% - 180px)",
    "left": "10px",
    "top": "150px",
    "width": "172px"
   },
   "toc_section_display": true,
   "toc_window_display": true
  }
 },
 "nbformat": 4,
 "nbformat_minor": 2
}
