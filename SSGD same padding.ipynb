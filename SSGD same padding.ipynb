{
 "cells": [
  {
   "cell_type": "code",
   "execution_count": 1,
   "metadata": {
    "ExecuteTime": {
     "end_time": "2018-04-18T16:07:34.229636Z",
     "start_time": "2018-04-18T16:07:34.211433Z"
    },
    "collapsed": true
   },
   "outputs": [],
   "source": [
    "%load_ext autoreload\n",
    "%autoreload 2"
   ]
  },
  {
   "cell_type": "code",
   "execution_count": 2,
   "metadata": {
    "ExecuteTime": {
     "end_time": "2018-04-18T16:07:34.445514Z",
     "start_time": "2018-04-18T16:07:34.231199Z"
    },
    "collapsed": true
   },
   "outputs": [],
   "source": [
    "import torch\n",
    "import torch.nn.functional as F\n",
    "import numpy as np\n",
    "\n",
    "from ssgd import StreamingSGD"
   ]
  },
  {
   "cell_type": "markdown",
   "metadata": {},
   "source": [
    "# Model definition"
   ]
  },
  {
   "cell_type": "markdown",
   "metadata": {},
   "source": [
    "A StreamingSGD compatible model now needs to be able to \"detach\" layers as well as gather input/output and gradients. It also needs a list of layers. See below for implementation example. In the future we want to implement this using PyTorch hooks and modules."
   ]
  },
  {
   "cell_type": "code",
   "execution_count": 3,
   "metadata": {
    "ExecuteTime": {
     "end_time": "2018-04-18T16:07:34.550937Z",
     "start_time": "2018-04-18T16:07:34.446802Z"
    },
    "collapsed": true
   },
   "outputs": [],
   "source": [
    "class ExampleNet(torch.nn.Module):\n",
    "    def __init__(self):\n",
    "        super(ExampleNet, self).__init__()\n",
    "        \n",
    "        self.input_layer = torch.nn.Conv2d(3, 3, kernel_size=3, padding=1)\n",
    "        self.layers = [self.input_layer]\n",
    "\n",
    "        for i in range(6):  # use 9 for 8194 x 8194 images\n",
    "            self.add_block(i)\n",
    "        \n",
    "        final_conv5 = torch.nn.Conv2d(3, 1, kernel_size=8)\n",
    "        self.add_module(\"final\", final_conv5)\n",
    "        \n",
    "        self.layers.extend([final_conv5])\n",
    "        \n",
    "    def add_block(self, i):\n",
    "        conv1 = torch.nn.Conv2d(3, 3, kernel_size=3, padding=1)\n",
    "        conv2 = torch.nn.Conv2d(3, 3, kernel_size=3, padding=1)\n",
    "        conv3 = torch.nn.Conv2d(3, 3, kernel_size=3, padding=1)\n",
    "        maxpool = torch.nn.MaxPool2d(2, stride=2)\n",
    "        \n",
    "        self.add_module(\"conv1-\" + str(i), conv1)\n",
    "        self.add_module(\"conv2-\" + str(i), conv2)\n",
    "        self.add_module(\"conv3-\" + str(i), conv3)\n",
    "        self.add_module(\"maxpool-\" + str(i), maxpool)\n",
    "\n",
    "        self.layers.extend([conv1, conv2, conv3, maxpool])\n",
    "        \n",
    "    def backward(self, gradient):\n",
    "        self.gradients = []\n",
    "        for i, output in reversed(list(enumerate(self.output))):\n",
    "            if i < (len(self.output) - 1):\n",
    "                gradient = self.input[i+1].grad\n",
    "            output.backward(gradient=gradient, retain_graph=True)\n",
    "            self.gradients.append(gradient)\n",
    "\n",
    "    def forward(self, x, stop_index=-1, start_index=0, detach=False):\n",
    "        if detach:\n",
    "            self.output = []\n",
    "            self.input = []\n",
    "        for i, layer in enumerate(self.layers[start_index:]):\n",
    "            if detach:\n",
    "                x = torch.autograd.Variable(x.data, requires_grad=detach)\n",
    "                self.input.append(x)\n",
    "            if i == stop_index:\n",
    "                break\n",
    "            if i + 1 == len(self.layers[start_index:]):\n",
    "                x = layer(x)\n",
    "                x = x.view(-1, 1)\n",
    "                x = F.sigmoid(x)\n",
    "            else:\n",
    "                x = F.relu(layer(x))\n",
    "            if detach:\n",
    "                self.output.append(x)\n",
    "        return x\n",
    "\n",
    "model = ExampleNet()\n",
    "# model = model.double()"
   ]
  },
  {
   "cell_type": "markdown",
   "metadata": {},
   "source": [
    "Weight initialization; we use positive values to generate large gradients, better for testing if final gradients are correct."
   ]
  },
  {
   "cell_type": "code",
   "execution_count": 4,
   "metadata": {
    "ExecuteTime": {
     "end_time": "2018-04-18T16:07:34.564947Z",
     "start_time": "2018-04-18T16:07:34.552353Z"
    },
    "collapsed": true
   },
   "outputs": [],
   "source": [
    "for i, layer in enumerate(model.modules()):\n",
    "    if isinstance(layer, torch.nn.Conv2d):\n",
    "        layer.weight.data.fill_(0.04)\n",
    "        layer.bias.data.zero_()"
   ]
  },
  {
   "cell_type": "code",
   "execution_count": 5,
   "metadata": {
    "ExecuteTime": {
     "end_time": "2018-04-18T16:07:34.580021Z",
     "start_time": "2018-04-18T16:07:34.566165Z"
    }
   },
   "outputs": [
    {
     "name": "stdout",
     "output_type": "stream",
     "text": [
      "ExampleNet(\n",
      "  (input_layer): Conv2d(3, 3, kernel_size=(3, 3), stride=(1, 1), padding=(1, 1))\n",
      "  (conv1-0): Conv2d(3, 3, kernel_size=(3, 3), stride=(1, 1), padding=(1, 1))\n",
      "  (conv2-0): Conv2d(3, 3, kernel_size=(3, 3), stride=(1, 1), padding=(1, 1))\n",
      "  (conv3-0): Conv2d(3, 3, kernel_size=(3, 3), stride=(1, 1), padding=(1, 1))\n",
      "  (maxpool-0): MaxPool2d(kernel_size=(2, 2), stride=(2, 2), dilation=(1, 1), ceil_mode=False)\n",
      "  (conv1-1): Conv2d(3, 3, kernel_size=(3, 3), stride=(1, 1), padding=(1, 1))\n",
      "  (conv2-1): Conv2d(3, 3, kernel_size=(3, 3), stride=(1, 1), padding=(1, 1))\n",
      "  (conv3-1): Conv2d(3, 3, kernel_size=(3, 3), stride=(1, 1), padding=(1, 1))\n",
      "  (maxpool-1): MaxPool2d(kernel_size=(2, 2), stride=(2, 2), dilation=(1, 1), ceil_mode=False)\n",
      "  (conv1-2): Conv2d(3, 3, kernel_size=(3, 3), stride=(1, 1), padding=(1, 1))\n",
      "  (conv2-2): Conv2d(3, 3, kernel_size=(3, 3), stride=(1, 1), padding=(1, 1))\n",
      "  (conv3-2): Conv2d(3, 3, kernel_size=(3, 3), stride=(1, 1), padding=(1, 1))\n",
      "  (maxpool-2): MaxPool2d(kernel_size=(2, 2), stride=(2, 2), dilation=(1, 1), ceil_mode=False)\n",
      "  (conv1-3): Conv2d(3, 3, kernel_size=(3, 3), stride=(1, 1), padding=(1, 1))\n",
      "  (conv2-3): Conv2d(3, 3, kernel_size=(3, 3), stride=(1, 1), padding=(1, 1))\n",
      "  (conv3-3): Conv2d(3, 3, kernel_size=(3, 3), stride=(1, 1), padding=(1, 1))\n",
      "  (maxpool-3): MaxPool2d(kernel_size=(2, 2), stride=(2, 2), dilation=(1, 1), ceil_mode=False)\n",
      "  (conv1-4): Conv2d(3, 3, kernel_size=(3, 3), stride=(1, 1), padding=(1, 1))\n",
      "  (conv2-4): Conv2d(3, 3, kernel_size=(3, 3), stride=(1, 1), padding=(1, 1))\n",
      "  (conv3-4): Conv2d(3, 3, kernel_size=(3, 3), stride=(1, 1), padding=(1, 1))\n",
      "  (maxpool-4): MaxPool2d(kernel_size=(2, 2), stride=(2, 2), dilation=(1, 1), ceil_mode=False)\n",
      "  (conv1-5): Conv2d(3, 3, kernel_size=(3, 3), stride=(1, 1), padding=(1, 1))\n",
      "  (conv2-5): Conv2d(3, 3, kernel_size=(3, 3), stride=(1, 1), padding=(1, 1))\n",
      "  (conv3-5): Conv2d(3, 3, kernel_size=(3, 3), stride=(1, 1), padding=(1, 1))\n",
      "  (maxpool-5): MaxPool2d(kernel_size=(2, 2), stride=(2, 2), dilation=(1, 1), ceil_mode=False)\n",
      "  (final): Conv2d(3, 1, kernel_size=(8, 8), stride=(1, 1))\n",
      ")\n"
     ]
    }
   ],
   "source": [
    "print(model)"
   ]
  },
  {
   "cell_type": "code",
   "execution_count": 6,
   "metadata": {
    "ExecuteTime": {
     "end_time": "2018-04-18T16:07:34.595799Z",
     "start_time": "2018-04-18T16:07:34.581568Z"
    },
    "collapsed": true
   },
   "outputs": [],
   "source": [
    "sCNN = StreamingSGD(model)"
   ]
  },
  {
   "cell_type": "markdown",
   "metadata": {},
   "source": [
    "# Configurations"
   ]
  },
  {
   "cell_type": "code",
   "execution_count": 7,
   "metadata": {
    "ExecuteTime": {
     "end_time": "2018-04-18T16:07:34.608065Z",
     "start_time": "2018-04-18T16:07:34.597974Z"
    },
    "collapsed": true
   },
   "outputs": [],
   "source": [
    "stop_index = 13  # use 21 for 8194x8194 images\n",
    "img_size = 514  # try 8194, see last segment for details\n",
    "\n",
    "cuda = False  # execute this notebook on the GPU\n",
    "verbose = True  # enable / disable logging\n",
    "divide_in = 2  # tip: use 25 for 8194x8194 when memory constraint"
   ]
  },
  {
   "cell_type": "markdown",
   "metadata": {},
   "source": [
    "# Configure streaming SGD"
   ]
  },
  {
   "cell_type": "code",
   "execution_count": 8,
   "metadata": {
    "ExecuteTime": {
     "end_time": "2018-04-18T16:07:34.619007Z",
     "start_time": "2018-04-18T16:07:34.609352Z"
    },
    "collapsed": true
   },
   "outputs": [],
   "source": [
    "if cuda:\n",
    "    model.cuda()"
   ]
  },
  {
   "cell_type": "code",
   "execution_count": 9,
   "metadata": {
    "ExecuteTime": {
     "end_time": "2018-04-18T16:07:34.649433Z",
     "start_time": "2018-04-18T16:07:34.620297Z"
    },
    "scrolled": false
   },
   "outputs": [
    {
     "name": "stdout",
     "output_type": "stream",
     "text": [
      "Calculating patch boxes...\n",
      "[1, 3, 514.0, 514.0] [1.0, 1.0] [1.0, 1.0, 1.0, 1.0] Conv2d\n",
      "[1, 3, 514.0, 514.0] [1.0, 1.0] [1.0, 1.0, 1.0, 1.0] Conv2d\n",
      "[1, 3, 514.0, 514.0] [1.0, 1.0] [1.0, 1.0, 1.0, 1.0] Conv2d\n",
      "[1, 3, 514.0, 514.0] [1.0, 1.0] [1.0, 1.0, 1.0, 1.0] Conv2d\n",
      "[1, 3, 257.0, 257.0] [2.0, 2.0] [0.0, 0.0, 0.0, 0.0] MaxPool2d\n",
      "[1, 3, 257.0, 257.0] [1.0, 1.0] [1.0, 1.0, 1.0, 1.0] Conv2d\n",
      "[1, 3, 257.0, 257.0] [1.0, 1.0] [1.0, 1.0, 1.0, 1.0] Conv2d\n",
      "[1, 3, 257.0, 257.0] [1.0, 1.0] [1.0, 1.0, 1.0, 1.0] Conv2d\n",
      "[1, 3, 128.0, 128.0] [2.0, 2.0] [0.0, 1.0, 0.0, 1.0] MaxPool2d\n",
      "[1, 3, 128.0, 128.0] [1.0, 1.0] [1.0, 1.0, 1.0, 1.0] Conv2d\n",
      "[1, 3, 128.0, 128.0] [1.0, 1.0] [1.0, 1.0, 1.0, 1.0] Conv2d\n",
      "[1, 3, 128.0, 128.0] [1.0, 1.0] [1.0, 1.0, 1.0, 1.0] Conv2d\n",
      "[1, 3, 64.0, 64.0] [2.0, 2.0] [0.0, 0.0, 0.0, 0.0] MaxPool2d\n",
      "Embedding divided in tile sizes: (32, 32) \n",
      "\n",
      "[1, 3, 386.0, 386.0] [1.0, 1.0] [1.0, 1.0, 1.0, 1.0] Conv2d\n",
      "[1, 3, 386.0, 386.0] [1.0, 1.0] [1.0, 1.0, 1.0, 1.0] Conv2d\n",
      "[1, 3, 386.0, 386.0] [1.0, 1.0] [1.0, 1.0, 1.0, 1.0] Conv2d\n",
      "[1, 3, 386.0, 386.0] [1.0, 1.0] [1.0, 1.0, 1.0, 1.0] Conv2d\n",
      "[1, 3, 193.0, 193.0] [2.0, 2.0] [0.0, 0.0, 0.0, 0.0] MaxPool2d\n",
      "[1, 3, 193.0, 193.0] [1.0, 1.0] [1.0, 1.0, 1.0, 1.0] Conv2d\n",
      "[1, 3, 193.0, 193.0] [1.0, 1.0] [1.0, 1.0, 1.0, 1.0] Conv2d\n",
      "[1, 3, 193.0, 193.0] [1.0, 1.0] [1.0, 1.0, 1.0, 1.0] Conv2d\n",
      "[1, 3, 96.0, 96.0] [2.0, 2.0] [0.0, 1.0, 0.0, 1.0] MaxPool2d\n",
      "[1, 3, 96.0, 96.0] [1.0, 1.0] [1.0, 1.0, 1.0, 1.0] Conv2d\n",
      "[1, 3, 96.0, 96.0] [1.0, 1.0] [1.0, 1.0, 1.0, 1.0] Conv2d\n",
      "[1, 3, 96.0, 96.0] [1.0, 1.0] [1.0, 1.0, 1.0, 1.0] Conv2d\n",
      "[1, 3, 48.0, 48.0] [2.0, 2.0] [0.0, 0.0, 0.0, 0.0] MaxPool2d\n",
      "Patch size forward: (302, 302) \n",
      "\n",
      "Calculating gradient. Embedding size: (64.0, 64.0)\n",
      "Done. \n",
      "Backward patch size (for forward pass): (386, 386)\n"
     ]
    }
   ],
   "source": [
    "sCNN.configure(model.layers, stop_index, (img_size, img_size, 3), 2, cuda, verbose)"
   ]
  },
  {
   "cell_type": "code",
   "execution_count": 10,
   "metadata": {
    "ExecuteTime": {
     "end_time": "2018-04-18T16:07:34.677328Z",
     "start_time": "2018-04-18T16:07:34.650911Z"
    },
    "scrolled": false
   },
   "outputs": [
    {
     "name": "stdout",
     "output_type": "stream",
     "text": [
      "[1, 3, 514.0, 514.0] [1.0, 1.0] [1.0, 1.0, 1.0, 1.0] Conv2d\n",
      "[1, 3, 514.0, 514.0] [1.0, 1.0] [1.0, 1.0, 1.0, 1.0] Conv2d\n",
      "[1, 3, 514.0, 514.0] [1.0, 1.0] [1.0, 1.0, 1.0, 1.0] Conv2d\n",
      "[1, 3, 514.0, 514.0] [1.0, 1.0] [1.0, 1.0, 1.0, 1.0] Conv2d\n",
      "[1, 3, 257.0, 257.0] [2.0, 2.0] [0.0, 0.0, 0.0, 0.0] MaxPool2d\n",
      "[1, 3, 257.0, 257.0] [1.0, 1.0] [1.0, 1.0, 1.0, 1.0] Conv2d\n",
      "[1, 3, 257.0, 257.0] [1.0, 1.0] [1.0, 1.0, 1.0, 1.0] Conv2d\n",
      "[1, 3, 257.0, 257.0] [1.0, 1.0] [1.0, 1.0, 1.0, 1.0] Conv2d\n",
      "[1, 3, 128.0, 128.0] [2.0, 2.0] [0.0, 1.0, 0.0, 1.0] MaxPool2d\n",
      "[1, 3, 128.0, 128.0] [1.0, 1.0] [1.0, 1.0, 1.0, 1.0] Conv2d\n",
      "[1, 3, 128.0, 128.0] [1.0, 1.0] [1.0, 1.0, 1.0, 1.0] Conv2d\n",
      "[1, 3, 128.0, 128.0] [1.0, 1.0] [1.0, 1.0, 1.0, 1.0] Conv2d\n",
      "[1, 3, 64.0, 64.0] [2.0, 2.0] [0.0, 0.0, 0.0, 0.0] MaxPool2d\n",
      "[1, 3, 64.0, 64.0] [1.0, 1.0] [1.0, 1.0, 1.0, 1.0] Conv2d\n",
      "[1, 3, 64.0, 64.0] [1.0, 1.0] [1.0, 1.0, 1.0, 1.0] Conv2d\n",
      "[1, 3, 64.0, 64.0] [1.0, 1.0] [1.0, 1.0, 1.0, 1.0] Conv2d\n",
      "[1, 3, 32.0, 32.0] [2.0, 2.0] [0.0, 0.0, 0.0, 0.0] MaxPool2d\n",
      "[1, 3, 32.0, 32.0] [1.0, 1.0] [1.0, 1.0, 1.0, 1.0] Conv2d\n",
      "[1, 3, 32.0, 32.0] [1.0, 1.0] [1.0, 1.0, 1.0, 1.0] Conv2d\n",
      "[1, 3, 32.0, 32.0] [1.0, 1.0] [1.0, 1.0, 1.0, 1.0] Conv2d\n",
      "[1, 3, 16.0, 16.0] [2.0, 2.0] [0.0, 0.0, 0.0, 0.0] MaxPool2d\n",
      "[1, 3, 16.0, 16.0] [1.0, 1.0] [1.0, 1.0, 1.0, 1.0] Conv2d\n",
      "[1, 3, 16.0, 16.0] [1.0, 1.0] [1.0, 1.0, 1.0, 1.0] Conv2d\n",
      "[1, 3, 16.0, 16.0] [1.0, 1.0] [1.0, 1.0, 1.0, 1.0] Conv2d\n",
      "[1, 3, 8.0, 8.0] [2.0, 2.0] [0.0, 0.0, 0.0, 0.0] MaxPool2d\n",
      "[1, 1, 1.0, 1.0] [1.0, 1.0] [3.0, 4.0, 3.0, 4.0] Conv2d\n"
     ]
    }
   ],
   "source": [
    "sCNN._getreconstructioninformation(model.layers, (1, img_size, img_size, 3));"
   ]
  },
  {
   "cell_type": "markdown",
   "metadata": {},
   "source": [
    "# Generate random image and fake label"
   ]
  },
  {
   "cell_type": "markdown",
   "metadata": {},
   "source": [
    "In the current implementation the whole image needs to be able to fit in memory (RAM)."
   ]
  },
  {
   "cell_type": "code",
   "execution_count": 11,
   "metadata": {
    "ExecuteTime": {
     "end_time": "2018-04-18T16:07:34.760113Z",
     "start_time": "2018-04-18T16:07:34.679097Z"
    },
    "collapsed": true
   },
   "outputs": [],
   "source": [
    "image = torch.FloatTensor(3, img_size, img_size).normal_(0, 1)\n",
    "target = torch.FloatTensor(1, 1).fill_(0)\n",
    "\n",
    "# image = image.double()\n",
    "# target = target.double()\n",
    "\n",
    "if cuda:\n",
    "    target = target.cuda()"
   ]
  },
  {
   "cell_type": "code",
   "execution_count": 12,
   "metadata": {
    "ExecuteTime": {
     "end_time": "2018-04-18T16:07:34.774819Z",
     "start_time": "2018-04-18T16:07:34.761573Z"
    },
    "collapsed": true
   },
   "outputs": [],
   "source": [
    "image_var = torch.autograd.Variable(image)\n",
    "# image_var = image_var.double()"
   ]
  },
  {
   "cell_type": "code",
   "execution_count": 13,
   "metadata": {
    "ExecuteTime": {
     "end_time": "2018-04-18T16:07:34.791239Z",
     "start_time": "2018-04-18T16:07:34.777979Z"
    },
    "collapsed": true
   },
   "outputs": [],
   "source": [
    "criterion = torch.nn.BCELoss()"
   ]
  },
  {
   "cell_type": "code",
   "execution_count": 14,
   "metadata": {
    "ExecuteTime": {
     "end_time": "2018-04-18T16:07:34.899127Z",
     "start_time": "2018-04-18T16:07:34.795695Z"
    }
   },
   "outputs": [
    {
     "name": "stderr",
     "output_type": "stream",
     "text": [
      "\r",
      "  0%|          | 0/4 [00:00<?, ?it/s]"
     ]
    },
    {
     "name": "stdout",
     "output_type": "stream",
     "text": [
      "Doing forward pass...\n"
     ]
    },
    {
     "name": "stderr",
     "output_type": "stream",
     "text": [
      "100%|██████████| 4/4 [00:00<00:00, 47.49it/s]\n"
     ]
    }
   ],
   "source": [
    "output, feature_map = sCNN.forward(image_var)"
   ]
  },
  {
   "cell_type": "code",
   "execution_count": 15,
   "metadata": {
    "ExecuteTime": {
     "end_time": "2018-04-18T16:07:34.923137Z",
     "start_time": "2018-04-18T16:07:34.900602Z"
    }
   },
   "outputs": [
    {
     "data": {
      "text/plain": [
       "array([[ 0.96422863]], dtype=float32)"
      ]
     },
     "execution_count": 15,
     "metadata": {},
     "output_type": "execute_result"
    }
   ],
   "source": [
    "output.data.numpy()"
   ]
  },
  {
   "cell_type": "code",
   "execution_count": 16,
   "metadata": {
    "ExecuteTime": {
     "end_time": "2018-04-18T16:07:34.936660Z",
     "start_time": "2018-04-18T16:07:34.924358Z"
    }
   },
   "outputs": [
    {
     "data": {
      "text/plain": [
       "Variable containing:\n",
       " 3.3306\n",
       "[torch.FloatTensor of size 1]"
      ]
     },
     "execution_count": 16,
     "metadata": {},
     "output_type": "execute_result"
    }
   ],
   "source": [
    "loss = criterion(output, torch.autograd.Variable(target)); loss"
   ]
  },
  {
   "cell_type": "code",
   "execution_count": 17,
   "metadata": {
    "ExecuteTime": {
     "end_time": "2018-04-18T16:07:35.490215Z",
     "start_time": "2018-04-18T16:07:34.938181Z"
    },
    "scrolled": false
   },
   "outputs": [
    {
     "name": "stderr",
     "output_type": "stream",
     "text": [
      "\r",
      "  0%|          | 0/4 [00:00<?, ?it/s]"
     ]
    },
    {
     "name": "stdout",
     "output_type": "stream",
     "text": [
      "Doing backward pass...\n"
     ]
    },
    {
     "name": "stderr",
     "output_type": "stream",
     "text": [
      "100%|██████████| 4/4 [00:00<00:00,  7.60it/s]"
     ]
    },
    {
     "name": "stdout",
     "output_type": "stream",
     "text": [
      "\n",
      "Filled gradient sizes:\n",
      "\n",
      "   48    64    64\n",
      "   94   128   131\n",
      "   89   128   133\n",
      "   88   128   138\n",
      "   87   128   142\n",
      "  177   257   295\n",
      "  172   257   297\n",
      "  171   257   301\n",
      "  170   257   304\n",
      "  344   514   616\n",
      "  340   514   617\n",
      "  339   514   620\n",
      "  338   514   622\n",
      "[torch.FloatTensor of size 13x3]\n",
      " \n",
      "\n",
      "Everything filled:\n",
      " True\n"
     ]
    },
    {
     "name": "stderr",
     "output_type": "stream",
     "text": [
      "\n"
     ]
    }
   ],
   "source": [
    "full_gradients = sCNN.backward(image_var, feature_map, loss, fill_gradients=False)"
   ]
  },
  {
   "cell_type": "markdown",
   "metadata": {},
   "source": [
    "\"Everything filled\" means that all gradients were reconstructed succesfully!\n",
    "\n",
    "Save the gradients of the conv2d layer to compare with normal SGD:"
   ]
  },
  {
   "cell_type": "code",
   "execution_count": 18,
   "metadata": {
    "ExecuteTime": {
     "end_time": "2018-04-18T16:07:35.503498Z",
     "start_time": "2018-04-18T16:07:35.491585Z"
    },
    "collapsed": true
   },
   "outputs": [],
   "source": [
    "streaming_conv_gradients = []\n",
    "\n",
    "for i, layer in enumerate(model.layers):\n",
    "    if isinstance(layer, torch.nn.Conv2d):\n",
    "        if layer.weight.grad is not None:\n",
    "            streaming_conv_gradients.append(layer.weight.grad.clone()) "
   ]
  },
  {
   "cell_type": "markdown",
   "metadata": {},
   "source": [
    "# Compare to normal SGD"
   ]
  },
  {
   "cell_type": "markdown",
   "metadata": {},
   "source": [
    "Reset the gradients and perform a normal for backward pass."
   ]
  },
  {
   "cell_type": "code",
   "execution_count": 19,
   "metadata": {
    "ExecuteTime": {
     "end_time": "2018-04-18T16:07:35.515488Z",
     "start_time": "2018-04-18T16:07:35.505281Z"
    },
    "collapsed": true
   },
   "outputs": [],
   "source": [
    "for i, layer in enumerate(model.layers):\n",
    "    if isinstance(layer, torch.nn.Conv2d):\n",
    "        if layer.weight.grad is not None:\n",
    "            layer.weight.grad.data.zero_()\n",
    "            layer.bias.grad.data.zero_()"
   ]
  },
  {
   "cell_type": "code",
   "execution_count": 20,
   "metadata": {
    "ExecuteTime": {
     "end_time": "2018-04-18T16:07:35.618577Z",
     "start_time": "2018-04-18T16:07:35.516541Z"
    },
    "collapsed": true
   },
   "outputs": [],
   "source": [
    "output = model.forward(image_var[None], detach=False);"
   ]
  },
  {
   "cell_type": "code",
   "execution_count": 21,
   "metadata": {
    "ExecuteTime": {
     "end_time": "2018-04-18T16:07:35.632660Z",
     "start_time": "2018-04-18T16:07:35.620945Z"
    }
   },
   "outputs": [
    {
     "data": {
      "text/plain": [
       "array([[ 0.96422863]], dtype=float32)"
      ]
     },
     "execution_count": 21,
     "metadata": {},
     "output_type": "execute_result"
    }
   ],
   "source": [
    "output.data.numpy()"
   ]
  },
  {
   "cell_type": "markdown",
   "metadata": {},
   "source": [
    "This output should be the same as the streaming SGD output, if so the loss will also be the same:"
   ]
  },
  {
   "cell_type": "code",
   "execution_count": 22,
   "metadata": {
    "ExecuteTime": {
     "end_time": "2018-04-18T16:07:35.648919Z",
     "start_time": "2018-04-18T16:07:35.634330Z"
    }
   },
   "outputs": [
    {
     "data": {
      "text/plain": [
       "Variable containing:\n",
       " 3.3306\n",
       "[torch.FloatTensor of size 1]"
      ]
     },
     "execution_count": 22,
     "metadata": {},
     "output_type": "execute_result"
    }
   ],
   "source": [
    "loss = criterion(output, torch.autograd.Variable(target)); loss"
   ]
  },
  {
   "cell_type": "markdown",
   "metadata": {},
   "source": [
    "Here we do a normal PyTorch backward pass:"
   ]
  },
  {
   "cell_type": "code",
   "execution_count": 23,
   "metadata": {
    "ExecuteTime": {
     "end_time": "2018-04-18T16:07:35.747140Z",
     "start_time": "2018-04-18T16:07:35.650742Z"
    },
    "collapsed": true
   },
   "outputs": [],
   "source": [
    "loss.backward()"
   ]
  },
  {
   "cell_type": "markdown",
   "metadata": {},
   "source": [
    "# Compare the gradients of the conv2d layers"
   ]
  },
  {
   "cell_type": "code",
   "execution_count": 24,
   "metadata": {
    "ExecuteTime": {
     "end_time": "2018-04-18T16:07:35.763103Z",
     "start_time": "2018-04-18T16:07:35.748920Z"
    },
    "collapsed": true
   },
   "outputs": [],
   "source": [
    "normal_conv_gradients = []\n",
    "\n",
    "for i, layer in enumerate(model.layers):\n",
    "    if isinstance(layer, torch.nn.Conv2d):\n",
    "        if layer.weight.grad is not None:\n",
    "            normal_conv_gradients.append(layer.weight.grad) "
   ]
  },
  {
   "cell_type": "code",
   "execution_count": 25,
   "metadata": {
    "ExecuteTime": {
     "end_time": "2018-04-18T16:07:35.787762Z",
     "start_time": "2018-04-18T16:07:35.765485Z"
    }
   },
   "outputs": [
    {
     "name": "stdout",
     "output_type": "stream",
     "text": [
      "Layer 0 \taverage gradient size: 0.9803536254682659\n",
      "Layer 1 \taverage gradient size: 0.9803535717504995\n",
      "Layer 2 \taverage gradient size: 0.9803535298064903\n",
      "Layer 3 \taverage gradient size: 0.9803536423930416\n",
      "Layer 4 \taverage gradient size: 0.9803535629201818\n",
      "Layer 5 \taverage gradient size: 0.9803536048641911\n",
      "Layer 6 \taverage gradient size: 0.9803536269399855\n",
      "Layer 7 \taverage gradient size: 0.9803535982414529\n",
      "Layer 8 \taverage gradient size: 0.9803536159020884\n",
      "Layer 9 \taverage gradient size: 0.9794397994324013\n",
      "Layer 10 \taverage gradient size: 0.9803535629201818\n",
      "Layer 11 \taverage gradient size: 0.9803535982414529\n",
      "Layer 12 \taverage gradient size: 0.9803536048641911\n",
      "Layer 13 \taverage gradient size: 0.9803536136945089\n",
      "Layer 14 \taverage gradient size: 0.9803535540898641\n",
      "Layer 15 \taverage gradient size: 0.9803536335627238\n",
      "Layer 16 \taverage gradient size: 0.9803536401854621\n",
      "Layer 17 \taverage gradient size: 0.9803536931673685\n",
      "Layer 18 \taverage gradient size: 0.9803536070717705\n",
      "Layer 19 \taverage gradient size: 0.413586659822613\n"
     ]
    }
   ],
   "source": [
    "for i in range(len(streaming_conv_gradients)):\n",
    "    max_diff = torch.max(torch.abs(streaming_conv_gradients[i].data - \n",
    "                      normal_conv_gradients[i].data))\n",
    "    print(\"Layer\", i, \"\\taverage gradient size:\", torch.mean(streaming_conv_gradients[i].data))"
   ]
  },
  {
   "cell_type": "code",
   "execution_count": 26,
   "metadata": {
    "ExecuteTime": {
     "end_time": "2018-04-18T16:07:35.816657Z",
     "start_time": "2018-04-18T16:07:35.788977Z"
    }
   },
   "outputs": [
    {
     "name": "stdout",
     "output_type": "stream",
     "text": [
      "Layer 0 \tmax difference between gradients: 9.5367431640625e-07\n",
      "Layer 1 \tmax difference between gradients: 8.940696716308594e-07\n",
      "Layer 2 \tmax difference between gradients: 8.940696716308594e-07\n",
      "Layer 3 \tmax difference between gradients: 1.430511474609375e-06\n",
      "Layer 4 \tmax difference between gradients: 4.172325134277344e-07\n",
      "Layer 5 \tmax difference between gradients: 4.172325134277344e-07\n",
      "Layer 6 \tmax difference between gradients: 4.76837158203125e-07\n",
      "Layer 7 \tmax difference between gradients: 1.7881393432617188e-07\n",
      "Layer 8 \tmax difference between gradients: 2.980232238769531e-07\n",
      "Layer 9 \tmax difference between gradients: 0.0018034577369689941\n",
      "Layer 10 \tmax difference between gradients: 0.0\n",
      "Layer 11 \tmax difference between gradients: 0.0\n",
      "Layer 12 \tmax difference between gradients: 0.0\n",
      "Layer 13 \tmax difference between gradients: 0.0\n",
      "Layer 14 \tmax difference between gradients: 0.0\n",
      "Layer 15 \tmax difference between gradients: 0.0\n",
      "Layer 16 \tmax difference between gradients: 0.0\n",
      "Layer 17 \tmax difference between gradients: 0.0\n",
      "Layer 18 \tmax difference between gradients: 0.0\n",
      "Layer 19 \tmax difference between gradients: 0.0\n"
     ]
    }
   ],
   "source": [
    "for i in range(len(streaming_conv_gradients)):\n",
    "    max_diff = torch.max(torch.abs(streaming_conv_gradients[i].data - \n",
    "                      normal_conv_gradients[i].data))\n",
    "    print(\"Layer\", i, \"\\tmax difference between gradients:\", max_diff)"
   ]
  },
  {
   "cell_type": "markdown",
   "metadata": {},
   "source": [
    "As you can see the difference of the gradients of the conv2d layers between the methods is (almost) numerically equivalent. The small differences are because of loss of significance with the floating points calculations. "
   ]
  },
  {
   "cell_type": "markdown",
   "metadata": {},
   "source": [
    "---"
   ]
  },
  {
   "cell_type": "markdown",
   "metadata": {
    "collapsed": true
   },
   "source": [
    "# Things to try:\n",
    "\n",
    "* Use doubles instead of floats to reduce the difference (use model.double() and image_var.double())\n",
    "* Make the image bigger than would fit on a GPU \n",
    "    - e.g. 8194x8194, make sure to add 3 more blocks in the model (see comments)\n",
    "* If you want you can compare the reconstructed input gradients of each layer: \n",
    "    - pass fill_gradient=True in backward() function\n",
    "    - compare full_gradients with self.model.gradients after the full model backward pass.\n",
    "* For testing purposes the number of filters is small in this notebook, try increasing them"
   ]
  },
  {
   "cell_type": "code",
   "execution_count": null,
   "metadata": {
    "collapsed": true
   },
   "outputs": [],
   "source": []
  }
 ],
 "metadata": {
  "kernelspec": {
   "display_name": "Python 3",
   "language": "python",
   "name": "python3"
  },
  "language_info": {
   "codemirror_mode": {
    "name": "ipython",
    "version": 3
   },
   "file_extension": ".py",
   "mimetype": "text/x-python",
   "name": "python",
   "nbconvert_exporter": "python",
   "pygments_lexer": "ipython3",
   "version": "3.6.4"
  },
  "toc": {
   "nav_menu": {},
   "number_sections": true,
   "sideBar": false,
   "skip_h1_title": false,
   "title_cell": "Table of Contents",
   "title_sidebar": "Contents",
   "toc_cell": false,
   "toc_position": {
    "height": "154px",
    "left": "2276.98px",
    "top": "94.9219px",
    "width": "413px"
   },
   "toc_section_display": true,
   "toc_window_display": true
  }
 },
 "nbformat": 4,
 "nbformat_minor": 2
}
