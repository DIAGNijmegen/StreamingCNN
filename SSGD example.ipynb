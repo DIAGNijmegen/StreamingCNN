{
 "cells": [
  {
   "cell_type": "code",
   "execution_count": 1,
   "metadata": {
    "ExecuteTime": {
     "end_time": "2018-05-23T10:52:24.678891Z",
     "start_time": "2018-05-23T10:52:24.409308Z"
    }
   },
   "outputs": [],
   "source": [
    "import torch\n",
    "import torch.nn.functional as F\n",
    "import numpy as np\n",
    "\n",
    "from ssgd import StreamingSGD"
   ]
  },
  {
   "cell_type": "code",
   "execution_count": 2,
   "metadata": {
    "ExecuteTime": {
     "end_time": "2018-05-23T10:52:24.682182Z",
     "start_time": "2018-05-23T10:52:24.680120Z"
    },
    "collapsed": true
   },
   "outputs": [],
   "source": [
    "torch.set_printoptions(precision=10)"
   ]
  },
  {
   "cell_type": "code",
   "execution_count": 3,
   "metadata": {
    "ExecuteTime": {
     "end_time": "2018-05-23T10:52:24.694398Z",
     "start_time": "2018-05-23T10:52:24.683711Z"
    }
   },
   "outputs": [
    {
     "data": {
      "text/plain": [
       "<torch._C.Generator at 0x7f7f68050350>"
      ]
     },
     "execution_count": 3,
     "metadata": {},
     "output_type": "execute_result"
    }
   ],
   "source": [
    "torch.manual_seed(9)"
   ]
  },
  {
   "cell_type": "markdown",
   "metadata": {},
   "source": [
    "# Model definition"
   ]
  },
  {
   "cell_type": "markdown",
   "metadata": {},
   "source": [
    "A StreamingSGD compatible model now needs to be able to \"detach\" layers as well as gather input/output and gradients. It also needs a list of layers. See below for implementation example. In the future we want to implement this using PyTorch hooks and modules."
   ]
  },
  {
   "cell_type": "code",
   "execution_count": 4,
   "metadata": {
    "ExecuteTime": {
     "end_time": "2018-05-23T10:52:24.790128Z",
     "start_time": "2018-05-23T10:52:24.695639Z"
    }
   },
   "outputs": [],
   "source": [
    "class ExampleNet(torch.nn.Module):\n",
    "    def __init__(self):\n",
    "        super(ExampleNet, self).__init__()\n",
    "        \n",
    "        self.input_layer = torch.nn.Conv2d(3, 3, kernel_size=3)\n",
    "        self.layers = [self.input_layer]\n",
    "\n",
    "        for i in range(5):  # use 9 for 8194 x 8194 images\n",
    "            self.add_block(i)\n",
    "        \n",
    "        final_conv5 = torch.nn.Conv2d(3, 1, kernel_size=10)\n",
    "        self.add_module(\"final\", final_conv5)\n",
    "        \n",
    "        self.layers.extend([final_conv5])\n",
    "        \n",
    "    def add_block(self, i):\n",
    "        conv1 = torch.nn.Conv2d(3, 3, kernel_size=3)\n",
    "        conv2 = torch.nn.Conv2d(3, 3, kernel_size=3)\n",
    "        conv3 = torch.nn.Conv2d(3, 3, kernel_size=3)\n",
    "        maxpool = torch.nn.MaxPool2d(2, stride=2)\n",
    "        \n",
    "        self.add_module(\"conv1-\" + str(i), conv1)\n",
    "        self.add_module(\"conv2-\" + str(i), conv2)\n",
    "        self.add_module(\"conv3-\" + str(i), conv3)\n",
    "        self.add_module(\"maxpool-\" + str(i), maxpool)\n",
    "\n",
    "        self.layers.extend([conv1, conv2, conv3, maxpool])\n",
    "\n",
    "    def forward(self, x, stop_at_layer=None, start_at_layer=None):\n",
    "        stop_index, start_index = -1, 0\n",
    "        for i, (name, layer) in enumerate(self.named_modules()):\n",
    "            if name == stop_at_layer:\n",
    "                stop_index = i\n",
    "            if name == start_at_layer:\n",
    "                start_index = i\n",
    "        \n",
    "        for i, layer in enumerate(self.layers[start_index:]):\n",
    "            if i == stop_index:\n",
    "                break\n",
    "                \n",
    "            if i + 1 == len(self.layers[start_index:]):\n",
    "                x = layer(x)\n",
    "                x = x.view(-1, 1)\n",
    "                x = F.sigmoid(x)\n",
    "            else:\n",
    "                x = F.relu(layer(x))\n",
    "\n",
    "        return x\n",
    "\n",
    "model = ExampleNet()\n",
    "# model = model.double()"
   ]
  },
  {
   "cell_type": "markdown",
   "metadata": {},
   "source": [
    "Weight initialization; we use positive values to generate large gradients, better for testing if final gradients are correct."
   ]
  },
  {
   "cell_type": "code",
   "execution_count": 5,
   "metadata": {
    "ExecuteTime": {
     "end_time": "2018-05-23T10:52:24.796404Z",
     "start_time": "2018-05-23T10:52:24.791564Z"
    },
    "collapsed": true
   },
   "outputs": [],
   "source": [
    "for i, layer in enumerate(model.modules()):\n",
    "    if isinstance(layer, torch.nn.Conv2d):\n",
    "        layer.weight.data *= 2.5\n",
    "        layer.bias.data.zero_()"
   ]
  },
  {
   "cell_type": "code",
   "execution_count": 6,
   "metadata": {
    "ExecuteTime": {
     "end_time": "2018-05-23T10:52:24.802421Z",
     "start_time": "2018-05-23T10:52:24.798138Z"
    }
   },
   "outputs": [
    {
     "name": "stdout",
     "output_type": "stream",
     "text": [
      "ExampleNet(\n",
      "  (input_layer): Conv2d(3, 3, kernel_size=(3, 3), stride=(1, 1))\n",
      "  (conv1-0): Conv2d(3, 3, kernel_size=(3, 3), stride=(1, 1))\n",
      "  (conv2-0): Conv2d(3, 3, kernel_size=(3, 3), stride=(1, 1))\n",
      "  (conv3-0): Conv2d(3, 3, kernel_size=(3, 3), stride=(1, 1))\n",
      "  (maxpool-0): MaxPool2d(kernel_size=2, stride=2, padding=0, dilation=1, ceil_mode=False)\n",
      "  (conv1-1): Conv2d(3, 3, kernel_size=(3, 3), stride=(1, 1))\n",
      "  (conv2-1): Conv2d(3, 3, kernel_size=(3, 3), stride=(1, 1))\n",
      "  (conv3-1): Conv2d(3, 3, kernel_size=(3, 3), stride=(1, 1))\n",
      "  (maxpool-1): MaxPool2d(kernel_size=2, stride=2, padding=0, dilation=1, ceil_mode=False)\n",
      "  (conv1-2): Conv2d(3, 3, kernel_size=(3, 3), stride=(1, 1))\n",
      "  (conv2-2): Conv2d(3, 3, kernel_size=(3, 3), stride=(1, 1))\n",
      "  (conv3-2): Conv2d(3, 3, kernel_size=(3, 3), stride=(1, 1))\n",
      "  (maxpool-2): MaxPool2d(kernel_size=2, stride=2, padding=0, dilation=1, ceil_mode=False)\n",
      "  (conv1-3): Conv2d(3, 3, kernel_size=(3, 3), stride=(1, 1))\n",
      "  (conv2-3): Conv2d(3, 3, kernel_size=(3, 3), stride=(1, 1))\n",
      "  (conv3-3): Conv2d(3, 3, kernel_size=(3, 3), stride=(1, 1))\n",
      "  (maxpool-3): MaxPool2d(kernel_size=2, stride=2, padding=0, dilation=1, ceil_mode=False)\n",
      "  (conv1-4): Conv2d(3, 3, kernel_size=(3, 3), stride=(1, 1))\n",
      "  (conv2-4): Conv2d(3, 3, kernel_size=(3, 3), stride=(1, 1))\n",
      "  (conv3-4): Conv2d(3, 3, kernel_size=(3, 3), stride=(1, 1))\n",
      "  (maxpool-4): MaxPool2d(kernel_size=2, stride=2, padding=0, dilation=1, ceil_mode=False)\n",
      "  (final): Conv2d(3, 1, kernel_size=(10, 10), stride=(1, 1))\n",
      ")\n"
     ]
    }
   ],
   "source": [
    "print(model)"
   ]
  },
  {
   "cell_type": "markdown",
   "metadata": {},
   "source": [
    "# Configurations"
   ]
  },
  {
   "cell_type": "code",
   "execution_count": 7,
   "metadata": {
    "ExecuteTime": {
     "end_time": "2018-05-23T10:52:24.808395Z",
     "start_time": "2018-05-23T10:52:24.803946Z"
    },
    "collapsed": true
   },
   "outputs": [],
   "source": [
    "stop_layer = 'conv2-3'  # use 'conv3-4' for 8194x8194 images\n",
    "img_size = 514  # try 8194, see last segment for details\n",
    "\n",
    "cuda = False  # execute this notebook on the GPU\n",
    "verbose = True  # enable / disable logging\n",
    "divide_in = 2  # tip: use 25 for 8194x8194 when memory constraint"
   ]
  },
  {
   "cell_type": "markdown",
   "metadata": {},
   "source": [
    "# Configure streaming SGD"
   ]
  },
  {
   "cell_type": "code",
   "execution_count": 8,
   "metadata": {
    "ExecuteTime": {
     "end_time": "2018-05-23T10:52:24.813450Z",
     "start_time": "2018-05-23T10:52:24.809800Z"
    },
    "collapsed": true
   },
   "outputs": [],
   "source": [
    "if cuda:\n",
    "    model.cuda()"
   ]
  },
  {
   "cell_type": "code",
   "execution_count": 9,
   "metadata": {
    "ExecuteTime": {
     "end_time": "2018-05-23T10:52:24.828191Z",
     "start_time": "2018-05-23T10:52:24.815423Z"
    },
    "scrolled": false
   },
   "outputs": [
    {
     "name": "stdout",
     "output_type": "stream",
     "text": [
      "Feature map to be reconstructed shape: (54.0, 54.0)\n",
      "Feature map divided in tile sizes: (27.0, 27.0)\n",
      "Tile size forward: (tensor(298.), tensor(298.))\n",
      "Tile size backward (for forward pass): (tensor(378.), tensor(378.))\n",
      "*** Approximate memory reduction of streaming: 45.9% ***\n"
     ]
    }
   ],
   "source": [
    "sCNN = StreamingSGD(model, stream_to_layer=stop_layer, \n",
    "               input_shape=(1, 3, img_size, img_size), \n",
    "               divide_in=divide_in, \n",
    "               cuda=cuda, \n",
    "               verbose=verbose)"
   ]
  },
  {
   "cell_type": "markdown",
   "metadata": {},
   "source": [
    "\n",
    "# Generate random image and fake label"
   ]
  },
  {
   "cell_type": "markdown",
   "metadata": {},
   "source": [
    "In the current implementation the whole image needs to be able to fit in memory (RAM)."
   ]
  },
  {
   "cell_type": "code",
   "execution_count": 10,
   "metadata": {
    "ExecuteTime": {
     "end_time": "2018-05-23T10:52:24.848187Z",
     "start_time": "2018-05-23T10:52:24.830086Z"
    },
    "collapsed": true
   },
   "outputs": [],
   "source": [
    "image = torch.FloatTensor(3, img_size, img_size).normal_(0, 1)\n",
    "target = torch.FloatTensor(1, 1).fill_(0)\n",
    "\n",
    "# image = image.double()\n",
    "# target = target.double()\n",
    "\n",
    "if cuda:\n",
    "    target = target.cuda()"
   ]
  },
  {
   "cell_type": "code",
   "execution_count": 11,
   "metadata": {
    "ExecuteTime": {
     "end_time": "2018-05-23T10:52:24.853245Z",
     "start_time": "2018-05-23T10:52:24.850351Z"
    },
    "collapsed": true
   },
   "outputs": [],
   "source": [
    "criterion = torch.nn.BCELoss()"
   ]
  },
  {
   "cell_type": "code",
   "execution_count": 12,
   "metadata": {
    "ExecuteTime": {
     "end_time": "2018-05-23T10:52:24.930292Z",
     "start_time": "2018-05-23T10:52:24.855074Z"
    },
    "scrolled": false
   },
   "outputs": [
    {
     "name": "stderr",
     "output_type": "stream",
     "text": [
      "100%|██████████| 4/4 [00:00<00:00, 63.09it/s]"
     ]
    },
    {
     "name": "stdout",
     "output_type": "stream",
     "text": [
      "Doing forward pass...\n"
     ]
    },
    {
     "name": "stderr",
     "output_type": "stream",
     "text": [
      "\n"
     ]
    },
    {
     "data": {
      "text/plain": [
       "tensor([[0.5723423362]])"
      ]
     },
     "execution_count": 12,
     "metadata": {},
     "output_type": "execute_result"
    }
   ],
   "source": [
    "output, feature_map = sCNN.forward(image); output"
   ]
  },
  {
   "cell_type": "code",
   "execution_count": 13,
   "metadata": {
    "ExecuteTime": {
     "end_time": "2018-05-23T10:52:24.935427Z",
     "start_time": "2018-05-23T10:52:24.931644Z"
    }
   },
   "outputs": [
    {
     "data": {
      "text/plain": [
       "tensor(0.8494322300)"
      ]
     },
     "execution_count": 13,
     "metadata": {},
     "output_type": "execute_result"
    }
   ],
   "source": [
    "loss = criterion(output, target); loss"
   ]
  },
  {
   "cell_type": "code",
   "execution_count": 14,
   "metadata": {
    "ExecuteTime": {
     "end_time": "2018-05-23T10:52:25.577179Z",
     "start_time": "2018-05-23T10:52:24.937491Z"
    },
    "scrolled": false
   },
   "outputs": [
    {
     "name": "stderr",
     "output_type": "stream",
     "text": [
      "\r",
      "  0%|          | 0/4 [00:00<?, ?it/s]"
     ]
    },
    {
     "name": "stdout",
     "output_type": "stream",
     "text": [
      "Doing backward pass...\n"
     ]
    },
    {
     "name": "stderr",
     "output_type": "stream",
     "text": [
      "100%|██████████| 4/4 [00:00<00:00,  6.41it/s]"
     ]
    },
    {
     "name": "stdout",
     "output_type": "stream",
     "text": [
      "Everything reconstructed:\n",
      " True\n"
     ]
    },
    {
     "name": "stderr",
     "output_type": "stream",
     "text": [
      "\n"
     ]
    }
   ],
   "source": [
    "full_gradients = sCNN.backward(image, feature_map, loss)"
   ]
  },
  {
   "cell_type": "markdown",
   "metadata": {},
   "source": [
    "\"Everything reconstruction\" means that all gradients were reconstructed succesfully!\n",
    "\n",
    "Save the gradients of the conv2d layer to compare with normal SGD:"
   ]
  },
  {
   "cell_type": "code",
   "execution_count": 15,
   "metadata": {
    "ExecuteTime": {
     "end_time": "2018-05-23T10:52:25.584600Z",
     "start_time": "2018-05-23T10:52:25.580268Z"
    },
    "collapsed": true
   },
   "outputs": [],
   "source": [
    "streaming_conv_gradients = []\n",
    "\n",
    "for i, layer in enumerate(model.layers):\n",
    "    if isinstance(layer, torch.nn.Conv2d):\n",
    "        if layer.weight.grad is not None:\n",
    "            streaming_conv_gradients.append(layer.weight.grad.clone()) "
   ]
  },
  {
   "cell_type": "markdown",
   "metadata": {},
   "source": [
    "# Compare to normal SGD"
   ]
  },
  {
   "cell_type": "markdown",
   "metadata": {},
   "source": [
    "Reset the gradients and perform a normal for backward pass."
   ]
  },
  {
   "cell_type": "code",
   "execution_count": 16,
   "metadata": {
    "ExecuteTime": {
     "end_time": "2018-05-23T10:52:25.590695Z",
     "start_time": "2018-05-23T10:52:25.586298Z"
    },
    "collapsed": true
   },
   "outputs": [],
   "source": [
    "for i, layer in enumerate(model.layers):\n",
    "    if isinstance(layer, torch.nn.Conv2d):\n",
    "        if layer.weight.grad is not None:\n",
    "            layer.weight.grad.data.zero_()\n",
    "            layer.bias.grad.data.zero_()"
   ]
  },
  {
   "cell_type": "markdown",
   "metadata": {},
   "source": [
    "This output should be the same as the streaming SGD output, if so the loss will also be the same:"
   ]
  },
  {
   "cell_type": "code",
   "execution_count": 17,
   "metadata": {
    "ExecuteTime": {
     "end_time": "2018-05-23T10:52:25.672609Z",
     "start_time": "2018-05-23T10:52:25.592230Z"
    }
   },
   "outputs": [
    {
     "data": {
      "text/plain": [
       "tensor([[0.5723423362]])"
      ]
     },
     "execution_count": 17,
     "metadata": {},
     "output_type": "execute_result"
    }
   ],
   "source": [
    "output = model(image[None]); output"
   ]
  },
  {
   "cell_type": "code",
   "execution_count": 18,
   "metadata": {
    "ExecuteTime": {
     "end_time": "2018-05-23T10:52:25.681654Z",
     "start_time": "2018-05-23T10:52:25.674395Z"
    }
   },
   "outputs": [
    {
     "data": {
      "text/plain": [
       "tensor(0.8494322300)"
      ]
     },
     "execution_count": 18,
     "metadata": {},
     "output_type": "execute_result"
    }
   ],
   "source": [
    "loss = criterion(output, target); loss"
   ]
  },
  {
   "cell_type": "code",
   "execution_count": 19,
   "metadata": {
    "ExecuteTime": {
     "end_time": "2018-05-23T10:52:25.794822Z",
     "start_time": "2018-05-23T10:52:25.683190Z"
    }
   },
   "outputs": [],
   "source": [
    "loss.backward()"
   ]
  },
  {
   "cell_type": "markdown",
   "metadata": {},
   "source": [
    "# Compare the gradients of the conv2d layers"
   ]
  },
  {
   "cell_type": "markdown",
   "metadata": {},
   "source": [
    "Save the gradients of the conv2d layer to compare with normal SGD:"
   ]
  },
  {
   "cell_type": "code",
   "execution_count": 20,
   "metadata": {
    "ExecuteTime": {
     "end_time": "2018-05-23T10:52:25.803657Z",
     "start_time": "2018-05-23T10:52:25.796095Z"
    }
   },
   "outputs": [],
   "source": [
    "normal_conv_gradients = []\n",
    "j = 0\n",
    "for i, layer in enumerate(model.layers):\n",
    "    if isinstance(layer, torch.nn.Conv2d):\n",
    "        if layer.weight.grad is not None:\n",
    "            normal_conv_gradients.append(layer.weight.grad) \n",
    "            j += 1"
   ]
  },
  {
   "cell_type": "code",
   "execution_count": 21,
   "metadata": {
    "ExecuteTime": {
     "end_time": "2018-05-23T10:52:25.819813Z",
     "start_time": "2018-05-23T10:52:25.805535Z"
    }
   },
   "outputs": [
    {
     "name": "stdout",
     "output_type": "stream",
     "text": [
      "Conv layer 0 \taverage gradient size: 0.8599761128425598\n",
      "Conv layer 1 \taverage gradient size: 0.9677516222000122\n",
      "Conv layer 2 \taverage gradient size: 0.4571639895439148\n",
      "Conv layer 3 \taverage gradient size: 0.45249804854393005\n",
      "Conv layer 4 \taverage gradient size: 0.3712787330150604\n",
      "Conv layer 5 \taverage gradient size: 0.4326077997684479\n",
      "Conv layer 6 \taverage gradient size: 0.2890121340751648\n",
      "Conv layer 7 \taverage gradient size: 0.4207111895084381\n",
      "Conv layer 8 \taverage gradient size: 0.49478086829185486\n",
      "Conv layer 9 \taverage gradient size: 0.31336453557014465\n",
      "Conv layer 10 \taverage gradient size: 0.20127855241298676\n",
      "Conv layer 11 \taverage gradient size: 0.17118841409683228\n",
      "Conv layer 12 \taverage gradient size: 0.0870930477976799\n",
      "Conv layer 13 \taverage gradient size: 0.043339017778635025\n",
      "Conv layer 14 \taverage gradient size: 0.04104870930314064\n",
      "Conv layer 15 \taverage gradient size: 0.041901979595422745\n",
      "Conv layer 16 \taverage gradient size: 0.14884939789772034\n"
     ]
    }
   ],
   "source": [
    "for i in range(len(streaming_conv_gradients)):\n",
    "    print(\"Conv layer\", i, \"\\taverage gradient size:\", float(torch.mean(torch.abs(streaming_conv_gradients[i].data))))"
   ]
  },
  {
   "cell_type": "code",
   "execution_count": 22,
   "metadata": {
    "ExecuteTime": {
     "end_time": "2018-05-23T10:52:25.834113Z",
     "start_time": "2018-05-23T10:52:25.821144Z"
    }
   },
   "outputs": [
    {
     "name": "stdout",
     "output_type": "stream",
     "text": [
      "Conv layer 0 \tmax difference between gradients: 3.6954879760742188e-06\n",
      "Conv layer 1 \tmax difference between gradients: 2.7418136596679688e-06\n",
      "Conv layer 2 \tmax difference between gradients: 1.430511474609375e-06\n",
      "Conv layer 3 \tmax difference between gradients: 2.2649765014648438e-06\n",
      "Conv layer 4 \tmax difference between gradients: 6.556510925292969e-07\n",
      "Conv layer 5 \tmax difference between gradients: 8.344650268554688e-07\n",
      "Conv layer 6 \tmax difference between gradients: 6.556510925292969e-07\n",
      "Conv layer 7 \tmax difference between gradients: 9.5367431640625e-07\n",
      "Conv layer 8 \tmax difference between gradients: 1.1920928955078125e-06\n",
      "Conv layer 9 \tmax difference between gradients: 2.682209014892578e-07\n",
      "Conv layer 10 \tmax difference between gradients: 4.76837158203125e-07\n",
      "Conv layer 11 \tmax difference between gradients: 3.5762786865234375e-07\n",
      "Conv layer 12 \tmax difference between gradients: 0.0\n",
      "Conv layer 13 \tmax difference between gradients: 0.0\n",
      "Conv layer 14 \tmax difference between gradients: 0.0\n",
      "Conv layer 15 \tmax difference between gradients: 0.0\n",
      "Conv layer 16 \tmax difference between gradients: 0.0\n"
     ]
    }
   ],
   "source": [
    "for i in range(len(streaming_conv_gradients)):\n",
    "    max_diff = torch.max(torch.abs(streaming_conv_gradients[i].data - \n",
    "                         normal_conv_gradients[i].data))\n",
    "    print(\"Conv layer\", i, \"\\tmax difference between gradients:\", float(max_diff))"
   ]
  },
  {
   "cell_type": "markdown",
   "metadata": {},
   "source": [
    "As you can see the difference of the gradients of the conv2d layers between the methods is (almost) numerically equivalent. The small differences are because of loss of significance with the floating points calculations. "
   ]
  },
  {
   "cell_type": "markdown",
   "metadata": {},
   "source": [
    "---"
   ]
  },
  {
   "cell_type": "markdown",
   "metadata": {
    "collapsed": true
   },
   "source": [
    "# Things to try:\n",
    "\n",
    "* Use doubles instead of floats to reduce the difference (use model.double() and image_var.double())\n",
    "* Make the image bigger than would fit on a GPU \n",
    "    - e.g. 8194x8194, make sure to add 3 more blocks in the model (see comments)\n",
    "* If you want you can compare the reconstructed input gradients of each layer: \n",
    "    - pass fill_gradient=True in backward() function\n",
    "    - compare full_gradients with self.model.gradients after the full model backward pass.\n",
    "* For testing purposes the number of filters is small in this notebook, try increasing them"
   ]
  }
 ],
 "metadata": {
  "kernelspec": {
   "display_name": "Python 3",
   "language": "python",
   "name": "python3"
  },
  "language_info": {
   "codemirror_mode": {
    "name": "ipython",
    "version": 3
   },
   "file_extension": ".py",
   "mimetype": "text/x-python",
   "name": "python",
   "nbconvert_exporter": "python",
   "pygments_lexer": "ipython3",
   "version": "3.6.4"
  },
  "toc": {
   "nav_menu": {},
   "number_sections": true,
   "sideBar": false,
   "skip_h1_title": false,
   "title_cell": "Table of Contents",
   "title_sidebar": "Contents",
   "toc_cell": false,
   "toc_position": {
    "height": "344px",
    "left": "2614.95px",
    "top": "98.0799px",
    "width": "383px"
   },
   "toc_section_display": true,
   "toc_window_display": true
  }
 },
 "nbformat": 4,
 "nbformat_minor": 2
}
