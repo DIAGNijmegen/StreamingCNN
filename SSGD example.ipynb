{
 "cells": [
  {
   "cell_type": "code",
   "execution_count": 1,
   "metadata": {
    "ExecuteTime": {
     "end_time": "2018-05-09T08:55:24.108971Z",
     "start_time": "2018-05-09T08:55:24.063607Z"
    },
    "collapsed": true
   },
   "outputs": [],
   "source": [
    "%load_ext autoreload\n",
    "%autoreload 2"
   ]
  },
  {
   "cell_type": "code",
   "execution_count": 2,
   "metadata": {
    "ExecuteTime": {
     "end_time": "2018-05-09T08:55:24.471091Z",
     "start_time": "2018-05-09T08:55:24.110410Z"
    }
   },
   "outputs": [],
   "source": [
    "import torch\n",
    "import torch.nn.functional as F\n",
    "import numpy as np\n",
    "\n",
    "from ssgd import StreamingSGD"
   ]
  },
  {
   "cell_type": "markdown",
   "metadata": {},
   "source": [
    "# Model definition"
   ]
  },
  {
   "cell_type": "markdown",
   "metadata": {},
   "source": [
    "A StreamingSGD compatible model now needs to be able to \"detach\" layers as well as gather input/output and gradients. It also needs a list of layers. See below for implementation example. In the future we want to implement this using PyTorch hooks and modules."
   ]
  },
  {
   "cell_type": "code",
   "execution_count": 3,
   "metadata": {
    "ExecuteTime": {
     "end_time": "2018-05-09T08:55:24.597727Z",
     "start_time": "2018-05-09T08:55:24.472603Z"
    },
    "collapsed": true
   },
   "outputs": [],
   "source": [
    "class ExampleNet(torch.nn.Module):\n",
    "    def __init__(self):\n",
    "        super(ExampleNet, self).__init__()\n",
    "        \n",
    "        self.input_layer = torch.nn.Conv2d(3, 3, kernel_size=3)\n",
    "        self.layers = [self.input_layer]\n",
    "\n",
    "        for i in range(5):  # use 9 for 8194 x 8194 images\n",
    "            self.add_block(i)\n",
    "        \n",
    "        final_conv5 = torch.nn.Conv2d(3, 1, kernel_size=10)\n",
    "        self.add_module(\"final\", final_conv5)\n",
    "        \n",
    "        self.layers.extend([final_conv5])\n",
    "        \n",
    "    def add_block(self, i):\n",
    "        conv1 = torch.nn.Conv2d(3, 3, kernel_size=3)\n",
    "        conv2 = torch.nn.Conv2d(3, 3, kernel_size=3)\n",
    "        conv3 = torch.nn.Conv2d(3, 3, kernel_size=3)\n",
    "        maxpool = torch.nn.MaxPool2d(2, stride=2)\n",
    "        \n",
    "        self.add_module(\"conv1-\" + str(i), conv1)\n",
    "        self.add_module(\"conv2-\" + str(i), conv2)\n",
    "        self.add_module(\"conv3-\" + str(i), conv3)\n",
    "        self.add_module(\"maxpool-\" + str(i), maxpool)\n",
    "\n",
    "        self.layers.extend([conv1, conv2, conv3, maxpool])\n",
    "        \n",
    "    def forward(self, x, stop_at_layer=None, start_at_layer=None):\n",
    "        stop_index = 14 if stop_at_layer else -1\n",
    "        start_index = 14 if start_at_layer else 0\n",
    "        \n",
    "        for i, layer in enumerate(self.layers[start_index:]):\n",
    "            if i == stop_index:\n",
    "                break\n",
    "            if i + 1 == len(self.layers[start_index:]):\n",
    "                x = layer(x)\n",
    "                x = x.view(-1, 1)\n",
    "                x = F.sigmoid(x)\n",
    "            else:\n",
    "                x = F.relu(layer(x))\n",
    "        return x\n",
    "\n",
    "model = ExampleNet()\n",
    "# model = model.double()"
   ]
  },
  {
   "cell_type": "markdown",
   "metadata": {},
   "source": [
    "Weight initialization; we use positive values to generate large gradients, better for testing if final gradients are correct."
   ]
  },
  {
   "cell_type": "code",
   "execution_count": 4,
   "metadata": {
    "ExecuteTime": {
     "end_time": "2018-05-09T08:55:24.655677Z",
     "start_time": "2018-05-09T08:55:24.599814Z"
    },
    "collapsed": true
   },
   "outputs": [],
   "source": [
    "for i, layer in enumerate(model.modules()):\n",
    "    if isinstance(layer, torch.nn.Conv2d):\n",
    "        layer.weight.data.fill_(0.04)\n",
    "        layer.bias.data.zero_()"
   ]
  },
  {
   "cell_type": "code",
   "execution_count": 5,
   "metadata": {
    "ExecuteTime": {
     "end_time": "2018-05-09T08:55:24.717028Z",
     "start_time": "2018-05-09T08:55:24.659433Z"
    }
   },
   "outputs": [
    {
     "name": "stdout",
     "output_type": "stream",
     "text": [
      "ExampleNet(\n",
      "  (input_layer): Conv2d(3, 3, kernel_size=(3, 3), stride=(1, 1))\n",
      "  (conv1-0): Conv2d(3, 3, kernel_size=(3, 3), stride=(1, 1))\n",
      "  (conv2-0): Conv2d(3, 3, kernel_size=(3, 3), stride=(1, 1))\n",
      "  (conv3-0): Conv2d(3, 3, kernel_size=(3, 3), stride=(1, 1))\n",
      "  (maxpool-0): MaxPool2d(kernel_size=(2, 2), stride=(2, 2), dilation=(1, 1), ceil_mode=False)\n",
      "  (conv1-1): Conv2d(3, 3, kernel_size=(3, 3), stride=(1, 1))\n",
      "  (conv2-1): Conv2d(3, 3, kernel_size=(3, 3), stride=(1, 1))\n",
      "  (conv3-1): Conv2d(3, 3, kernel_size=(3, 3), stride=(1, 1))\n",
      "  (maxpool-1): MaxPool2d(kernel_size=(2, 2), stride=(2, 2), dilation=(1, 1), ceil_mode=False)\n",
      "  (conv1-2): Conv2d(3, 3, kernel_size=(3, 3), stride=(1, 1))\n",
      "  (conv2-2): Conv2d(3, 3, kernel_size=(3, 3), stride=(1, 1))\n",
      "  (conv3-2): Conv2d(3, 3, kernel_size=(3, 3), stride=(1, 1))\n",
      "  (maxpool-2): MaxPool2d(kernel_size=(2, 2), stride=(2, 2), dilation=(1, 1), ceil_mode=False)\n",
      "  (conv1-3): Conv2d(3, 3, kernel_size=(3, 3), stride=(1, 1))\n",
      "  (conv2-3): Conv2d(3, 3, kernel_size=(3, 3), stride=(1, 1))\n",
      "  (conv3-3): Conv2d(3, 3, kernel_size=(3, 3), stride=(1, 1))\n",
      "  (maxpool-3): MaxPool2d(kernel_size=(2, 2), stride=(2, 2), dilation=(1, 1), ceil_mode=False)\n",
      "  (conv1-4): Conv2d(3, 3, kernel_size=(3, 3), stride=(1, 1))\n",
      "  (conv2-4): Conv2d(3, 3, kernel_size=(3, 3), stride=(1, 1))\n",
      "  (conv3-4): Conv2d(3, 3, kernel_size=(3, 3), stride=(1, 1))\n",
      "  (maxpool-4): MaxPool2d(kernel_size=(2, 2), stride=(2, 2), dilation=(1, 1), ceil_mode=False)\n",
      "  (final): Conv2d(3, 1, kernel_size=(10, 10), stride=(1, 1))\n",
      ")\n"
     ]
    }
   ],
   "source": [
    "print(model)"
   ]
  },
  {
   "cell_type": "markdown",
   "metadata": {},
   "source": [
    "# Configurations"
   ]
  },
  {
   "cell_type": "code",
   "execution_count": 6,
   "metadata": {
    "ExecuteTime": {
     "end_time": "2018-05-09T08:55:24.761344Z",
     "start_time": "2018-05-09T08:55:24.718911Z"
    },
    "collapsed": true
   },
   "outputs": [],
   "source": [
    "stop_index = 14  # use 21 for 8194x8194 images\n",
    "img_size = 514  # try 8194, see last segment for details\n",
    "\n",
    "cuda = False  # execute this notebook on the GPU\n",
    "verbose = True  # enable / disable logging\n",
    "divide_in = 4  # tip: use 25 for 8194x8194 when memory constraint"
   ]
  },
  {
   "cell_type": "markdown",
   "metadata": {},
   "source": [
    "# Configure streaming SGD"
   ]
  },
  {
   "cell_type": "code",
   "execution_count": 7,
   "metadata": {
    "ExecuteTime": {
     "end_time": "2018-05-09T08:55:24.820232Z",
     "start_time": "2018-05-09T08:55:24.765415Z"
    },
    "collapsed": true
   },
   "outputs": [],
   "source": [
    "if cuda:\n",
    "    model.cuda()"
   ]
  },
  {
   "cell_type": "code",
   "execution_count": 8,
   "metadata": {
    "ExecuteTime": {
     "end_time": "2018-05-09T08:55:24.884303Z",
     "start_time": "2018-05-09T08:55:24.822525Z"
    },
    "scrolled": false
   },
   "outputs": [
    {
     "name": "stdout",
     "output_type": "stream",
     "text": [
      "Feature map to be reconstructed shape: (56.0, 56.0)\n",
      "Feature map divided in tile sizes: (14.0, 14.0)\n",
      "Tile size forward: (178.0, 178.0)\n",
      "Tile size backward (for forward pass): (242.0, 242.0)\n",
      "*** Approximate memory reduction of streaming: 77.8% ***\n"
     ]
    }
   ],
   "source": [
    "sCNN = StreamingSGD(model, stream_to_layer='conv1-3', \n",
    "               input_shape=(1, 3, img_size, img_size), \n",
    "               divide_in=divide_in, \n",
    "               cuda=cuda, \n",
    "               verbose=verbose)"
   ]
  },
  {
   "cell_type": "markdown",
   "metadata": {},
   "source": [
    "# Generate random image and fake label"
   ]
  },
  {
   "cell_type": "markdown",
   "metadata": {},
   "source": [
    "In the current implementation the whole image needs to be able to fit in memory (RAM)."
   ]
  },
  {
   "cell_type": "code",
   "execution_count": 9,
   "metadata": {
    "ExecuteTime": {
     "end_time": "2018-05-09T08:55:25.017143Z",
     "start_time": "2018-05-09T08:55:24.886292Z"
    },
    "collapsed": true
   },
   "outputs": [],
   "source": [
    "image = torch.FloatTensor(3, img_size, img_size).normal_(0, 1)\n",
    "target = torch.FloatTensor(1, 1).fill_(0)\n",
    "\n",
    "# image = image.double()\n",
    "# target = target.double()\n",
    "\n",
    "if cuda:\n",
    "    target = target.cuda()"
   ]
  },
  {
   "cell_type": "code",
   "execution_count": 10,
   "metadata": {
    "ExecuteTime": {
     "end_time": "2018-05-09T08:55:25.066838Z",
     "start_time": "2018-05-09T08:55:25.018720Z"
    },
    "collapsed": true
   },
   "outputs": [],
   "source": [
    "image_var = torch.autograd.Variable(image)\n",
    "# image_var = image_var.double()"
   ]
  },
  {
   "cell_type": "code",
   "execution_count": 11,
   "metadata": {
    "ExecuteTime": {
     "end_time": "2018-05-09T08:55:25.118114Z",
     "start_time": "2018-05-09T08:55:25.068687Z"
    },
    "collapsed": true
   },
   "outputs": [],
   "source": [
    "criterion = torch.nn.BCELoss()"
   ]
  },
  {
   "cell_type": "code",
   "execution_count": 12,
   "metadata": {
    "ExecuteTime": {
     "end_time": "2018-05-09T08:55:25.276367Z",
     "start_time": "2018-05-09T08:55:25.119826Z"
    },
    "scrolled": false
   },
   "outputs": [
    {
     "name": "stderr",
     "output_type": "stream",
     "text": [
      "100%|██████████| 16/16 [00:00<00:00, 148.72it/s]"
     ]
    },
    {
     "name": "stdout",
     "output_type": "stream",
     "text": [
      "Doing forward pass...\n"
     ]
    },
    {
     "name": "stderr",
     "output_type": "stream",
     "text": [
      "\n"
     ]
    }
   ],
   "source": [
    "output, feature_map = sCNN.forward(image_var)"
   ]
  },
  {
   "cell_type": "code",
   "execution_count": 13,
   "metadata": {
    "ExecuteTime": {
     "end_time": "2018-05-09T08:55:25.336386Z",
     "start_time": "2018-05-09T08:55:25.277976Z"
    }
   },
   "outputs": [
    {
     "data": {
      "text/plain": [
       "Variable containing:\n",
       " 0.9907\n",
       "[torch.FloatTensor of size 1x1]"
      ]
     },
     "execution_count": 13,
     "metadata": {},
     "output_type": "execute_result"
    }
   ],
   "source": [
    "output"
   ]
  },
  {
   "cell_type": "code",
   "execution_count": 14,
   "metadata": {
    "ExecuteTime": {
     "end_time": "2018-05-09T08:55:25.402702Z",
     "start_time": "2018-05-09T08:55:25.338507Z"
    }
   },
   "outputs": [
    {
     "data": {
      "text/plain": [
       "Variable containing:\n",
       " 4.6831\n",
       "[torch.FloatTensor of size 1]"
      ]
     },
     "execution_count": 14,
     "metadata": {},
     "output_type": "execute_result"
    }
   ],
   "source": [
    "loss = criterion(output, torch.autograd.Variable(target)); loss"
   ]
  },
  {
   "cell_type": "code",
   "execution_count": 15,
   "metadata": {
    "ExecuteTime": {
     "end_time": "2018-05-09T08:55:26.610404Z",
     "start_time": "2018-05-09T08:55:25.405463Z"
    },
    "scrolled": false
   },
   "outputs": [
    {
     "name": "stderr",
     "output_type": "stream",
     "text": [
      "  6%|▋         | 1/16 [00:00<00:01,  8.09it/s]"
     ]
    },
    {
     "name": "stdout",
     "output_type": "stream",
     "text": [
      "Doing backward pass...\n"
     ]
    },
    {
     "name": "stderr",
     "output_type": "stream",
     "text": [
      "100%|██████████| 16/16 [00:01<00:00, 14.08it/s]"
     ]
    },
    {
     "name": "stdout",
     "output_type": "stream",
     "text": [
      "Everything filled:\n",
      " True\n"
     ]
    },
    {
     "name": "stderr",
     "output_type": "stream",
     "text": [
      "\n"
     ]
    }
   ],
   "source": [
    "full_gradients = sCNN.backward(image_var, feature_map, loss)"
   ]
  },
  {
   "cell_type": "markdown",
   "metadata": {},
   "source": [
    "\"Everything filled\" means that all gradients were reconstructed succesfully!\n",
    "\n",
    "Save the gradients of the conv2d layer to compare with normal SGD:"
   ]
  },
  {
   "cell_type": "code",
   "execution_count": 16,
   "metadata": {
    "ExecuteTime": {
     "end_time": "2018-05-09T08:55:26.678511Z",
     "start_time": "2018-05-09T08:55:26.612265Z"
    }
   },
   "outputs": [],
   "source": [
    "streaming_conv_gradients = []\n",
    "\n",
    "for i, layer in enumerate(model.layers):\n",
    "    if isinstance(layer, torch.nn.Conv2d):\n",
    "        if layer.weight.grad is not None:\n",
    "            streaming_conv_gradients.append(layer.weight.grad.clone()) "
   ]
  },
  {
   "cell_type": "markdown",
   "metadata": {},
   "source": [
    "# Compare to normal SGD"
   ]
  },
  {
   "cell_type": "markdown",
   "metadata": {},
   "source": [
    "Reset the gradients and perform a normal for backward pass."
   ]
  },
  {
   "cell_type": "code",
   "execution_count": 17,
   "metadata": {
    "ExecuteTime": {
     "end_time": "2018-05-09T08:55:26.733900Z",
     "start_time": "2018-05-09T08:55:26.680453Z"
    },
    "collapsed": true
   },
   "outputs": [],
   "source": [
    "for i, layer in enumerate(model.layers):\n",
    "    if isinstance(layer, torch.nn.Conv2d):\n",
    "        if layer.weight.grad is not None:\n",
    "            layer.weight.grad.data.zero_()\n",
    "            layer.bias.grad.data.zero_()"
   ]
  },
  {
   "cell_type": "code",
   "execution_count": 18,
   "metadata": {
    "ExecuteTime": {
     "end_time": "2018-05-09T08:55:26.885098Z",
     "start_time": "2018-05-09T08:55:26.735728Z"
    },
    "collapsed": true
   },
   "outputs": [],
   "source": [
    "output = model.forward(image_var[None]);"
   ]
  },
  {
   "cell_type": "code",
   "execution_count": 19,
   "metadata": {
    "ExecuteTime": {
     "end_time": "2018-05-09T08:55:26.934687Z",
     "start_time": "2018-05-09T08:55:26.886823Z"
    }
   },
   "outputs": [
    {
     "data": {
      "text/plain": [
       "Variable containing:\n",
       " 0.9907\n",
       "[torch.FloatTensor of size 1x1]"
      ]
     },
     "execution_count": 19,
     "metadata": {},
     "output_type": "execute_result"
    }
   ],
   "source": [
    "output"
   ]
  },
  {
   "cell_type": "markdown",
   "metadata": {},
   "source": [
    "This output should be the same as the streaming SGD output, if so the loss will also be the same:"
   ]
  },
  {
   "cell_type": "code",
   "execution_count": 20,
   "metadata": {
    "ExecuteTime": {
     "end_time": "2018-05-09T08:55:26.975284Z",
     "start_time": "2018-05-09T08:55:26.936101Z"
    }
   },
   "outputs": [
    {
     "data": {
      "text/plain": [
       "Variable containing:\n",
       " 4.6831\n",
       "[torch.FloatTensor of size 1]"
      ]
     },
     "execution_count": 20,
     "metadata": {},
     "output_type": "execute_result"
    }
   ],
   "source": [
    "loss = criterion(output, torch.autograd.Variable(target)); loss"
   ]
  },
  {
   "cell_type": "markdown",
   "metadata": {},
   "source": [
    "Here we do a normal PyTorch backward pass:"
   ]
  },
  {
   "cell_type": "code",
   "execution_count": 21,
   "metadata": {
    "ExecuteTime": {
     "end_time": "2018-05-09T08:55:27.145237Z",
     "start_time": "2018-05-09T08:55:26.978356Z"
    },
    "collapsed": true
   },
   "outputs": [],
   "source": [
    "loss.backward()"
   ]
  },
  {
   "cell_type": "markdown",
   "metadata": {},
   "source": [
    "# Compare the gradients of the conv2d layers"
   ]
  },
  {
   "cell_type": "code",
   "execution_count": 22,
   "metadata": {
    "ExecuteTime": {
     "end_time": "2018-05-09T08:55:27.219282Z",
     "start_time": "2018-05-09T08:55:27.149879Z"
    },
    "collapsed": true
   },
   "outputs": [],
   "source": [
    "normal_conv_gradients = []\n",
    "\n",
    "for i, layer in enumerate(model.layers):\n",
    "    if isinstance(layer, torch.nn.Conv2d):\n",
    "        if layer.weight.grad is not None:\n",
    "            normal_conv_gradients.append(layer.weight.grad) "
   ]
  },
  {
   "cell_type": "code",
   "execution_count": 23,
   "metadata": {
    "ExecuteTime": {
     "end_time": "2018-05-09T08:55:27.318971Z",
     "start_time": "2018-05-09T08:55:27.221442Z"
    }
   },
   "outputs": [
    {
     "name": "stdout",
     "output_type": "stream",
     "text": [
      "Layer 0 \taverage gradient size: 1.42917592437179\n",
      "Layer 1 \taverage gradient size: 1.4291759022959956\n",
      "Layer 2 \taverage gradient size: 1.4291759332021077\n",
      "Layer 3 \taverage gradient size: 1.4291759287869488\n",
      "Layer 4 \taverage gradient size: 1.4291759376172666\n",
      "Layer 5 \taverage gradient size: 1.4291758802202013\n",
      "Layer 6 \taverage gradient size: 1.4291759287869488\n",
      "Layer 7 \taverage gradient size: 1.4291758978808369\n",
      "Layer 8 \taverage gradient size: 1.4291759332021077\n",
      "Layer 9 \taverage gradient size: 1.4291759155414723\n",
      "Layer 10 \taverage gradient size: 1.4291758802202013\n",
      "Layer 11 \taverage gradient size: 1.4291759067111545\n",
      "Layer 12 \taverage gradient size: 1.4291759287869488\n",
      "Layer 13 \taverage gradient size: 1.4291758404837713\n",
      "Layer 14 \taverage gradient size: 1.4291758139928181\n",
      "Layer 15 \taverage gradient size: 1.4291759464475844\n",
      "Layer 16 \taverage gradient size: 0.3858775034546852\n"
     ]
    }
   ],
   "source": [
    "for i in range(len(streaming_conv_gradients)):\n",
    "    print(\"Layer\", i, \"\\taverage gradient size:\", torch.mean(streaming_conv_gradients[i].data))"
   ]
  },
  {
   "cell_type": "code",
   "execution_count": 25,
   "metadata": {
    "ExecuteTime": {
     "end_time": "2018-05-09T08:55:32.366034Z",
     "start_time": "2018-05-09T08:55:32.274836Z"
    }
   },
   "outputs": [
    {
     "name": "stdout",
     "output_type": "stream",
     "text": [
      "Layer 0 \tmax difference between gradients: 1.6689300537109375e-06\n",
      "Layer 1 \tmax difference between gradients: 1.3113021850585938e-06\n",
      "Layer 2 \tmax difference between gradients: 2.1457672119140625e-06\n",
      "Layer 3 \tmax difference between gradients: 1.6689300537109375e-06\n",
      "Layer 4 \tmax difference between gradients: 8.344650268554688e-07\n",
      "Layer 5 \tmax difference between gradients: 5.960464477539062e-07\n",
      "Layer 6 \tmax difference between gradients: 5.960464477539062e-07\n",
      "Layer 7 \tmax difference between gradients: 4.76837158203125e-07\n",
      "Layer 8 \tmax difference between gradients: 3.5762786865234375e-07\n",
      "Layer 9 \tmax difference between gradients: 5.960464477539062e-07\n",
      "Layer 10 \tmax difference between gradients: 3.5762786865234375e-07\n",
      "Layer 11 \tmax difference between gradients: 0.0\n",
      "Layer 12 \tmax difference between gradients: 0.0\n",
      "Layer 13 \tmax difference between gradients: 0.0\n",
      "Layer 14 \tmax difference between gradients: 0.0\n",
      "Layer 15 \tmax difference between gradients: 0.0\n",
      "Layer 16 \tmax difference between gradients: 0.0\n"
     ]
    }
   ],
   "source": [
    "for i in range(len(streaming_conv_gradients)):\n",
    "    max_diff = torch.max(torch.abs(streaming_conv_gradients[i].data - \n",
    "                         normal_conv_gradients[i].data))\n",
    "    print(\"Layer\", i, \"\\tmax difference between gradients:\", max_diff)"
   ]
  },
  {
   "cell_type": "markdown",
   "metadata": {},
   "source": [
    "As you can see the difference of the gradients of the conv2d layers between the methods is (almost) numerically equivalent. The small differences are because of loss of significance with the floating points calculations. "
   ]
  },
  {
   "cell_type": "markdown",
   "metadata": {},
   "source": [
    "---"
   ]
  },
  {
   "cell_type": "markdown",
   "metadata": {
    "collapsed": true,
    "heading_collapsed": true
   },
   "source": [
    "# Things to try:\n",
    "\n",
    "* Use doubles instead of floats to reduce the difference (use model.double() and image_var.double())\n",
    "* Make the image bigger than would fit on a GPU \n",
    "    - e.g. 8194x8194, make sure to add 3 more blocks in the model (see comments)\n",
    "* If you want you can compare the reconstructed input gradients of each layer: \n",
    "    - pass fill_gradient=True in backward() function\n",
    "    - compare full_gradients with self.model.gradients after the full model backward pass.\n",
    "* For testing purposes the number of filters is small in this notebook, try increasing them"
   ]
  }
 ],
 "metadata": {
  "kernelspec": {
   "display_name": "Python 3",
   "language": "python",
   "name": "python3"
  },
  "language_info": {
   "codemirror_mode": {
    "name": "ipython",
    "version": 3
   },
   "file_extension": ".py",
   "mimetype": "text/x-python",
   "name": "python",
   "nbconvert_exporter": "python",
   "pygments_lexer": "ipython3",
   "version": "3.6.4"
  },
  "toc": {
   "nav_menu": {},
   "number_sections": true,
   "sideBar": false,
   "skip_h1_title": false,
   "title_cell": "Table of Contents",
   "title_sidebar": "Contents",
   "toc_cell": false,
   "toc_position": {
    "height": "344px",
    "left": "2276.97px",
    "top": "94.9074px",
    "width": "383px"
   },
   "toc_section_display": true,
   "toc_window_display": true
  }
 },
 "nbformat": 4,
 "nbformat_minor": 2
}
