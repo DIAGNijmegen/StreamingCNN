{
 "cells": [
  {
   "cell_type": "code",
   "execution_count": 1,
   "metadata": {
    "ExecuteTime": {
     "end_time": "2018-04-20T08:25:47.840185Z",
     "start_time": "2018-04-20T08:25:47.612731Z"
    },
    "collapsed": true
   },
   "outputs": [],
   "source": [
    "import torch\n",
    "import torch.nn.functional as F\n",
    "import numpy as np\n",
    "\n",
    "from ssgd import StreamingSGD"
   ]
  },
  {
   "cell_type": "markdown",
   "metadata": {},
   "source": [
    "# Model definition"
   ]
  },
  {
   "cell_type": "markdown",
   "metadata": {},
   "source": [
    "A StreamingSGD compatible model now needs to be able to \"detach\" layers as well as gather input/output and gradients. It also needs a list of layers. See below for implementation example. In the future we want to implement this using PyTorch hooks and modules."
   ]
  },
  {
   "cell_type": "code",
   "execution_count": 2,
   "metadata": {
    "ExecuteTime": {
     "end_time": "2018-04-20T08:25:47.959084Z",
     "start_time": "2018-04-20T08:25:47.843112Z"
    },
    "collapsed": true
   },
   "outputs": [],
   "source": [
    "class ExampleNet(torch.nn.Module):\n",
    "    def __init__(self):\n",
    "        super(ExampleNet, self).__init__()\n",
    "        \n",
    "        self.input_layer = torch.nn.Conv2d(3, 3, kernel_size=3)\n",
    "        self.layers = [self.input_layer]\n",
    "\n",
    "        for i in range(5):  # use 9 for 8194 x 8194 images\n",
    "            self.add_block(i)\n",
    "        \n",
    "        final_conv5 = torch.nn.Conv2d(3, 1, kernel_size=10)\n",
    "        self.add_module(\"final\", final_conv5)\n",
    "        \n",
    "        self.layers.extend([final_conv5])\n",
    "        \n",
    "    def add_block(self, i):\n",
    "        conv1 = torch.nn.Conv2d(3, 3, kernel_size=3)\n",
    "        conv2 = torch.nn.Conv2d(3, 3, kernel_size=3)\n",
    "        conv3 = torch.nn.Conv2d(3, 3, kernel_size=3)\n",
    "        maxpool = torch.nn.MaxPool2d(2, stride=2)\n",
    "        \n",
    "        self.add_module(\"conv1-\" + str(i), conv1)\n",
    "        self.add_module(\"conv2-\" + str(i), conv2)\n",
    "        self.add_module(\"conv3-\" + str(i), conv3)\n",
    "        self.add_module(\"maxpool-\" + str(i), maxpool)\n",
    "\n",
    "        self.layers.extend([conv1, conv2, conv3, maxpool])\n",
    "        \n",
    "    def backward(self, gradient):\n",
    "        self.gradients = []\n",
    "        for i, output in reversed(list(enumerate(self.output))):\n",
    "            if i < (len(self.output) - 1):\n",
    "                gradient = self.input[i+1].grad\n",
    "            output.backward(gradient=gradient, retain_graph=True)\n",
    "            self.gradients.append(gradient)\n",
    "\n",
    "    def forward(self, x, stop_index=-1, start_index=0, detach=False):\n",
    "        if detach:\n",
    "            self.output = []\n",
    "            self.input = []\n",
    "        for i, layer in enumerate(self.layers[start_index:]):\n",
    "            if detach:\n",
    "                x = torch.autograd.Variable(x.data, requires_grad=detach)\n",
    "                self.input.append(x)\n",
    "            if i == stop_index:\n",
    "                break\n",
    "            if i + 1 == len(self.layers[start_index:]):\n",
    "                x = layer(x)\n",
    "                x = x.view(-1, 1)\n",
    "                x = F.sigmoid(x)\n",
    "            else:\n",
    "                x = F.relu(layer(x))\n",
    "            if detach:\n",
    "                self.output.append(x)\n",
    "        return x\n",
    "\n",
    "model = ExampleNet()\n",
    "# model = model.double()"
   ]
  },
  {
   "cell_type": "markdown",
   "metadata": {},
   "source": [
    "Weight initialization; we use positive values to generate large gradients, better for testing if final gradients are correct."
   ]
  },
  {
   "cell_type": "code",
   "execution_count": 3,
   "metadata": {
    "ExecuteTime": {
     "end_time": "2018-04-20T08:25:47.965365Z",
     "start_time": "2018-04-20T08:25:47.960601Z"
    },
    "collapsed": true
   },
   "outputs": [],
   "source": [
    "for i, layer in enumerate(model.modules()):\n",
    "    if isinstance(layer, torch.nn.Conv2d):\n",
    "        layer.weight.data.fill_(0.04)\n",
    "        layer.bias.data.zero_()"
   ]
  },
  {
   "cell_type": "code",
   "execution_count": 4,
   "metadata": {
    "ExecuteTime": {
     "end_time": "2018-04-20T08:25:47.971261Z",
     "start_time": "2018-04-20T08:25:47.967258Z"
    }
   },
   "outputs": [
    {
     "name": "stdout",
     "output_type": "stream",
     "text": [
      "ExampleNet(\n",
      "  (input_layer): Conv2d(3, 3, kernel_size=(3, 3), stride=(1, 1))\n",
      "  (conv1-0): Conv2d(3, 3, kernel_size=(3, 3), stride=(1, 1))\n",
      "  (conv2-0): Conv2d(3, 3, kernel_size=(3, 3), stride=(1, 1))\n",
      "  (conv3-0): Conv2d(3, 3, kernel_size=(3, 3), stride=(1, 1))\n",
      "  (maxpool-0): MaxPool2d(kernel_size=(2, 2), stride=(2, 2), dilation=(1, 1), ceil_mode=False)\n",
      "  (conv1-1): Conv2d(3, 3, kernel_size=(3, 3), stride=(1, 1))\n",
      "  (conv2-1): Conv2d(3, 3, kernel_size=(3, 3), stride=(1, 1))\n",
      "  (conv3-1): Conv2d(3, 3, kernel_size=(3, 3), stride=(1, 1))\n",
      "  (maxpool-1): MaxPool2d(kernel_size=(2, 2), stride=(2, 2), dilation=(1, 1), ceil_mode=False)\n",
      "  (conv1-2): Conv2d(3, 3, kernel_size=(3, 3), stride=(1, 1))\n",
      "  (conv2-2): Conv2d(3, 3, kernel_size=(3, 3), stride=(1, 1))\n",
      "  (conv3-2): Conv2d(3, 3, kernel_size=(3, 3), stride=(1, 1))\n",
      "  (maxpool-2): MaxPool2d(kernel_size=(2, 2), stride=(2, 2), dilation=(1, 1), ceil_mode=False)\n",
      "  (conv1-3): Conv2d(3, 3, kernel_size=(3, 3), stride=(1, 1))\n",
      "  (conv2-3): Conv2d(3, 3, kernel_size=(3, 3), stride=(1, 1))\n",
      "  (conv3-3): Conv2d(3, 3, kernel_size=(3, 3), stride=(1, 1))\n",
      "  (maxpool-3): MaxPool2d(kernel_size=(2, 2), stride=(2, 2), dilation=(1, 1), ceil_mode=False)\n",
      "  (conv1-4): Conv2d(3, 3, kernel_size=(3, 3), stride=(1, 1))\n",
      "  (conv2-4): Conv2d(3, 3, kernel_size=(3, 3), stride=(1, 1))\n",
      "  (conv3-4): Conv2d(3, 3, kernel_size=(3, 3), stride=(1, 1))\n",
      "  (maxpool-4): MaxPool2d(kernel_size=(2, 2), stride=(2, 2), dilation=(1, 1), ceil_mode=False)\n",
      "  (final): Conv2d(3, 1, kernel_size=(10, 10), stride=(1, 1))\n",
      ")\n"
     ]
    }
   ],
   "source": [
    "print(model)"
   ]
  },
  {
   "cell_type": "code",
   "execution_count": 5,
   "metadata": {
    "ExecuteTime": {
     "end_time": "2018-04-20T08:25:47.978712Z",
     "start_time": "2018-04-20T08:25:47.974114Z"
    },
    "collapsed": true
   },
   "outputs": [],
   "source": [
    "sCNN = StreamingSGD(model)"
   ]
  },
  {
   "cell_type": "markdown",
   "metadata": {},
   "source": [
    "# Configurations"
   ]
  },
  {
   "cell_type": "code",
   "execution_count": 6,
   "metadata": {
    "ExecuteTime": {
     "end_time": "2018-04-20T08:25:47.984536Z",
     "start_time": "2018-04-20T08:25:47.980567Z"
    },
    "collapsed": true
   },
   "outputs": [],
   "source": [
    "stop_index = 14  # use 21 for 8194x8194 images\n",
    "img_size = 514  # try 8194, see last segment for details\n",
    "\n",
    "cuda = False  # execute this notebook on the GPU\n",
    "verbose = True  # enable / disable logging\n",
    "divide_in = 8  # tip: use 25 for 8194x8194 when memory constraint"
   ]
  },
  {
   "cell_type": "markdown",
   "metadata": {},
   "source": [
    "# Configure streaming SGD"
   ]
  },
  {
   "cell_type": "code",
   "execution_count": 7,
   "metadata": {
    "ExecuteTime": {
     "end_time": "2018-04-20T08:25:47.989501Z",
     "start_time": "2018-04-20T08:25:47.986902Z"
    },
    "collapsed": true
   },
   "outputs": [],
   "source": [
    "if cuda:\n",
    "    model.cuda()"
   ]
  },
  {
   "cell_type": "code",
   "execution_count": 8,
   "metadata": {
    "ExecuteTime": {
     "end_time": "2018-04-20T08:25:48.019322Z",
     "start_time": "2018-04-20T08:25:47.991395Z"
    },
    "scrolled": false
   },
   "outputs": [
    {
     "name": "stdout",
     "output_type": "stream",
     "text": [
      "Calculating patch boxes...\n",
      "[1, 3, 512.0, 512.0] [1.0, 1.0] [1.0, 1.0, 1.0, 1.0] Conv2d\n",
      "[1, 3, 510.0, 510.0] [1.0, 1.0] [1.0, 1.0, 1.0, 1.0] Conv2d\n",
      "[1, 3, 508.0, 508.0] [1.0, 1.0] [1.0, 1.0, 1.0, 1.0] Conv2d\n",
      "[1, 3, 506.0, 506.0] [1.0, 1.0] [1.0, 1.0, 1.0, 1.0] Conv2d\n",
      "[1, 3, 253.0, 253.0] [2.0, 2.0] [0.0, 0.0, 0.0, 0.0] MaxPool2d\n",
      "[1, 3, 251.0, 251.0] [1.0, 1.0] [1.0, 1.0, 1.0, 1.0] Conv2d\n",
      "[1, 3, 249.0, 249.0] [1.0, 1.0] [1.0, 1.0, 1.0, 1.0] Conv2d\n",
      "[1, 3, 247.0, 247.0] [1.0, 1.0] [1.0, 1.0, 1.0, 1.0] Conv2d\n",
      "[1, 3, 123.0, 123.0] [2.0, 2.0] [0.0, 1.0, 0.0, 1.0] MaxPool2d\n",
      "[1, 3, 121.0, 121.0] [1.0, 1.0] [1.0, 1.0, 1.0, 1.0] Conv2d\n",
      "[1, 3, 119.0, 119.0] [1.0, 1.0] [1.0, 1.0, 1.0, 1.0] Conv2d\n",
      "[1, 3, 117.0, 117.0] [1.0, 1.0] [1.0, 1.0, 1.0, 1.0] Conv2d\n",
      "[1, 3, 58.0, 58.0] [2.0, 2.0] [0.0, 1.0, 0.0, 1.0] MaxPool2d\n",
      "[1, 3, 56.0, 56.0] [1.0, 1.0] [1.0, 1.0, 1.0, 1.0] Conv2d\n",
      "Embedding divided in tile sizes: (7, 7) \n",
      "\n",
      "[1, 3, 184.0, 184.0] [1.0, 1.0] [1.0, 1.0, 1.0, 1.0] Conv2d\n",
      "[1, 3, 182.0, 182.0] [1.0, 1.0] [1.0, 1.0, 1.0, 1.0] Conv2d\n",
      "[1, 3, 180.0, 180.0] [1.0, 1.0] [1.0, 1.0, 1.0, 1.0] Conv2d\n",
      "[1, 3, 178.0, 178.0] [1.0, 1.0] [1.0, 1.0, 1.0, 1.0] Conv2d\n",
      "[1, 3, 89.0, 89.0] [2.0, 2.0] [0.0, 0.0, 0.0, 0.0] MaxPool2d\n",
      "[1, 3, 87.0, 87.0] [1.0, 1.0] [1.0, 1.0, 1.0, 1.0] Conv2d\n",
      "[1, 3, 85.0, 85.0] [1.0, 1.0] [1.0, 1.0, 1.0, 1.0] Conv2d\n",
      "[1, 3, 83.0, 83.0] [1.0, 1.0] [1.0, 1.0, 1.0, 1.0] Conv2d\n",
      "[1, 3, 41.0, 41.0] [2.0, 2.0] [0.0, 1.0, 0.0, 1.0] MaxPool2d\n",
      "[1, 3, 39.0, 39.0] [1.0, 1.0] [1.0, 1.0, 1.0, 1.0] Conv2d\n",
      "[1, 3, 37.0, 37.0] [1.0, 1.0] [1.0, 1.0, 1.0, 1.0] Conv2d\n",
      "[1, 3, 35.0, 35.0] [1.0, 1.0] [1.0, 1.0, 1.0, 1.0] Conv2d\n",
      "[1, 3, 17.0, 17.0] [2.0, 2.0] [0.0, 1.0, 0.0, 1.0] MaxPool2d\n",
      "[1, 3, 15.0, 15.0] [1.0, 1.0] [1.0, 1.0, 1.0, 1.0] Conv2d\n",
      "Patch size forward: (122, 122) \n",
      "\n",
      "Calculating gradient. Embedding size: (56.0, 56.0)\n",
      "Done. \n",
      "Backward patch size (for forward pass): (186, 186)\n"
     ]
    }
   ],
   "source": [
    "sCNN.configure(model.layers, stop_index, (img_size, img_size, 3), divide_in, cuda, verbose)"
   ]
  },
  {
   "cell_type": "markdown",
   "metadata": {},
   "source": [
    "# Generate random image and fake label"
   ]
  },
  {
   "cell_type": "markdown",
   "metadata": {},
   "source": [
    "In the current implementation the whole image needs to be able to fit in memory (RAM)."
   ]
  },
  {
   "cell_type": "code",
   "execution_count": 9,
   "metadata": {
    "ExecuteTime": {
     "end_time": "2018-04-20T08:25:48.097880Z",
     "start_time": "2018-04-20T08:25:48.020865Z"
    },
    "collapsed": true
   },
   "outputs": [],
   "source": [
    "image = torch.FloatTensor(3, img_size, img_size).normal_(0, 1)\n",
    "target = torch.FloatTensor(1, 1).fill_(0)\n",
    "\n",
    "# image = image.double()\n",
    "# target = target.double()\n",
    "\n",
    "if cuda:\n",
    "    target = target.cuda()"
   ]
  },
  {
   "cell_type": "code",
   "execution_count": 10,
   "metadata": {
    "ExecuteTime": {
     "end_time": "2018-04-20T08:25:48.101670Z",
     "start_time": "2018-04-20T08:25:48.099302Z"
    },
    "collapsed": true
   },
   "outputs": [],
   "source": [
    "image_var = torch.autograd.Variable(image)\n",
    "# image_var = image_var.double()"
   ]
  },
  {
   "cell_type": "code",
   "execution_count": 11,
   "metadata": {
    "ExecuteTime": {
     "end_time": "2018-04-20T08:25:48.106972Z",
     "start_time": "2018-04-20T08:25:48.103593Z"
    },
    "collapsed": true
   },
   "outputs": [],
   "source": [
    "criterion = torch.nn.BCELoss()"
   ]
  },
  {
   "cell_type": "code",
   "execution_count": 12,
   "metadata": {
    "ExecuteTime": {
     "end_time": "2018-04-20T08:25:48.279668Z",
     "start_time": "2018-04-20T08:25:48.110069Z"
    }
   },
   "outputs": [
    {
     "name": "stderr",
     "output_type": "stream",
     "text": [
      "\r",
      "  0%|          | 0/64 [00:00<?, ?it/s]"
     ]
    },
    {
     "name": "stdout",
     "output_type": "stream",
     "text": [
      "Doing forward pass...\n"
     ]
    },
    {
     "name": "stderr",
     "output_type": "stream",
     "text": [
      "100%|██████████| 64/64 [00:00<00:00, 389.78it/s]\n"
     ]
    }
   ],
   "source": [
    "output, feature_map = sCNN.forward(image_var)"
   ]
  },
  {
   "cell_type": "code",
   "execution_count": 13,
   "metadata": {
    "ExecuteTime": {
     "end_time": "2018-04-20T08:25:48.293114Z",
     "start_time": "2018-04-20T08:25:48.281361Z"
    }
   },
   "outputs": [
    {
     "data": {
      "text/plain": [
       "Variable containing:\n",
       " 0.9902\n",
       "[torch.FloatTensor of size 1x1]"
      ]
     },
     "execution_count": 13,
     "metadata": {},
     "output_type": "execute_result"
    }
   ],
   "source": [
    "output"
   ]
  },
  {
   "cell_type": "code",
   "execution_count": 14,
   "metadata": {
    "ExecuteTime": {
     "end_time": "2018-04-20T08:25:48.298677Z",
     "start_time": "2018-04-20T08:25:48.294401Z"
    }
   },
   "outputs": [
    {
     "data": {
      "text/plain": [
       "Variable containing:\n",
       " 4.6288\n",
       "[torch.FloatTensor of size 1]"
      ]
     },
     "execution_count": 14,
     "metadata": {},
     "output_type": "execute_result"
    }
   ],
   "source": [
    "loss = criterion(output, torch.autograd.Variable(target)); loss"
   ]
  },
  {
   "cell_type": "code",
   "execution_count": 15,
   "metadata": {
    "ExecuteTime": {
     "end_time": "2018-04-20T08:25:50.025688Z",
     "start_time": "2018-04-20T08:25:48.300438Z"
    },
    "scrolled": false
   },
   "outputs": [
    {
     "name": "stderr",
     "output_type": "stream",
     "text": [
      "\r",
      "  0%|          | 0/64 [00:00<?, ?it/s]"
     ]
    },
    {
     "name": "stdout",
     "output_type": "stream",
     "text": [
      "Doing backward pass...\n"
     ]
    },
    {
     "name": "stderr",
     "output_type": "stream",
     "text": [
      "100%|██████████| 64/64 [00:01<00:00, 37.40it/s]"
     ]
    },
    {
     "name": "stdout",
     "output_type": "stream",
     "text": [
      "\n",
      "Filled gradient sizes:\n",
      "\n",
      "   53    56    56\n",
      "   53    58    58\n",
      "  105   117   117\n",
      "  105   119   119\n",
      "  105   121   121\n",
      "  105   123   123\n",
      "  209   247   247\n",
      "  209   249   249\n",
      "  209   251   251\n",
      "  209   253   253\n",
      "  418   506   506\n",
      "  418   508   508\n",
      "  418   510   510\n",
      "  418   512   512\n",
      "[torch.FloatTensor of size 14x3]\n",
      " \n",
      "\n",
      "Everything filled:\n",
      " True\n"
     ]
    },
    {
     "name": "stderr",
     "output_type": "stream",
     "text": [
      "\n"
     ]
    }
   ],
   "source": [
    "full_gradients = sCNN.backward(image_var, feature_map, loss)"
   ]
  },
  {
   "cell_type": "markdown",
   "metadata": {},
   "source": [
    "\"Everything filled\" means that all gradients were reconstructed succesfully!\n",
    "\n",
    "Save the gradients of the conv2d layer to compare with normal SGD:"
   ]
  },
  {
   "cell_type": "code",
   "execution_count": 16,
   "metadata": {
    "ExecuteTime": {
     "end_time": "2018-04-20T08:25:50.031499Z",
     "start_time": "2018-04-20T08:25:50.027045Z"
    },
    "collapsed": true
   },
   "outputs": [],
   "source": [
    "streaming_conv_gradients = []\n",
    "\n",
    "for i, layer in enumerate(model.layers):\n",
    "    if isinstance(layer, torch.nn.Conv2d):\n",
    "        if layer.weight.grad is not None:\n",
    "            streaming_conv_gradients.append(layer.weight.grad.clone()) "
   ]
  },
  {
   "cell_type": "markdown",
   "metadata": {},
   "source": [
    "# Compare to normal SGD"
   ]
  },
  {
   "cell_type": "markdown",
   "metadata": {},
   "source": [
    "Reset the gradients and perform a normal for backward pass."
   ]
  },
  {
   "cell_type": "code",
   "execution_count": 17,
   "metadata": {
    "ExecuteTime": {
     "end_time": "2018-04-20T08:25:50.037956Z",
     "start_time": "2018-04-20T08:25:50.033155Z"
    },
    "collapsed": true
   },
   "outputs": [],
   "source": [
    "for i, layer in enumerate(model.layers):\n",
    "    if isinstance(layer, torch.nn.Conv2d):\n",
    "        if layer.weight.grad is not None:\n",
    "            layer.weight.grad.data.zero_()\n",
    "            layer.bias.grad.data.zero_()"
   ]
  },
  {
   "cell_type": "code",
   "execution_count": 18,
   "metadata": {
    "ExecuteTime": {
     "end_time": "2018-04-20T08:25:50.122575Z",
     "start_time": "2018-04-20T08:25:50.039878Z"
    },
    "collapsed": true
   },
   "outputs": [],
   "source": [
    "output = model.forward(image_var[None]);"
   ]
  },
  {
   "cell_type": "code",
   "execution_count": 19,
   "metadata": {
    "ExecuteTime": {
     "end_time": "2018-04-20T08:25:50.127110Z",
     "start_time": "2018-04-20T08:25:50.123767Z"
    }
   },
   "outputs": [
    {
     "data": {
      "text/plain": [
       "Variable containing:\n",
       " 0.9902\n",
       "[torch.FloatTensor of size 1x1]"
      ]
     },
     "execution_count": 19,
     "metadata": {},
     "output_type": "execute_result"
    }
   ],
   "source": [
    "output"
   ]
  },
  {
   "cell_type": "markdown",
   "metadata": {},
   "source": [
    "This output should be the same as the streaming SGD output, if so the loss will also be the same:"
   ]
  },
  {
   "cell_type": "code",
   "execution_count": 20,
   "metadata": {
    "ExecuteTime": {
     "end_time": "2018-04-20T08:25:50.134258Z",
     "start_time": "2018-04-20T08:25:50.128587Z"
    }
   },
   "outputs": [
    {
     "data": {
      "text/plain": [
       "Variable containing:\n",
       " 4.6288\n",
       "[torch.FloatTensor of size 1]"
      ]
     },
     "execution_count": 20,
     "metadata": {},
     "output_type": "execute_result"
    }
   ],
   "source": [
    "loss = criterion(output, torch.autograd.Variable(target)); loss"
   ]
  },
  {
   "cell_type": "markdown",
   "metadata": {},
   "source": [
    "Here we do a normal PyTorch backward pass:"
   ]
  },
  {
   "cell_type": "code",
   "execution_count": 21,
   "metadata": {
    "ExecuteTime": {
     "end_time": "2018-04-20T08:25:50.220662Z",
     "start_time": "2018-04-20T08:25:50.136030Z"
    },
    "collapsed": true
   },
   "outputs": [],
   "source": [
    "loss.backward()"
   ]
  },
  {
   "cell_type": "markdown",
   "metadata": {},
   "source": [
    "# Compare the gradients of the conv2d layers"
   ]
  },
  {
   "cell_type": "code",
   "execution_count": 22,
   "metadata": {
    "ExecuteTime": {
     "end_time": "2018-04-20T08:25:50.234181Z",
     "start_time": "2018-04-20T08:25:50.221908Z"
    },
    "collapsed": true
   },
   "outputs": [],
   "source": [
    "normal_conv_gradients = []\n",
    "\n",
    "for i, layer in enumerate(model.layers):\n",
    "    if isinstance(layer, torch.nn.Conv2d):\n",
    "        if layer.weight.grad is not None:\n",
    "            normal_conv_gradients.append(layer.weight.grad) "
   ]
  },
  {
   "cell_type": "code",
   "execution_count": 23,
   "metadata": {
    "ExecuteTime": {
     "end_time": "2018-04-20T08:25:50.253431Z",
     "start_time": "2018-04-20T08:25:50.236083Z"
    }
   },
   "outputs": [
    {
     "name": "stdout",
     "output_type": "stream",
     "text": [
      "Layer 0 \taverage gradient size: 1.4117031023826128\n",
      "Layer 1 \taverage gradient size: 1.4117030302683513\n",
      "Layer 2 \taverage gradient size: 1.4117030435138278\n",
      "Layer 3 \taverage gradient size: 1.411703065589622\n",
      "Layer 4 \taverage gradient size: 1.4117030920805755\n",
      "Layer 5 \taverage gradient size: 1.4117029817016036\n",
      "Layer 6 \taverage gradient size: 1.4117030479289867\n",
      "Layer 7 \taverage gradient size: 1.4117030611744634\n",
      "Layer 8 \taverage gradient size: 1.411703070004781\n",
      "Layer 9 \taverage gradient size: 1.4117028183407254\n",
      "Layer 10 \taverage gradient size: 1.4117029905319214\n",
      "Layer 11 \taverage gradient size: 1.411703105326052\n",
      "Layer 12 \taverage gradient size: 1.4117030964957342\n",
      "Layer 13 \taverage gradient size: 1.4117030435138278\n",
      "Layer 14 \taverage gradient size: 1.4117030435138278\n",
      "Layer 15 \taverage gradient size: 1.4117030435138278\n",
      "Layer 16 \taverage gradient size: 0.3811598053574562\n"
     ]
    }
   ],
   "source": [
    "for i in range(len(streaming_conv_gradients)):\n",
    "    max_diff = torch.max(torch.abs(streaming_conv_gradients[i].data - \n",
    "                      normal_conv_gradients[i].data))\n",
    "    print(\"Layer\", i, \"\\taverage gradient size:\", torch.mean(streaming_conv_gradients[i].data))"
   ]
  },
  {
   "cell_type": "code",
   "execution_count": 24,
   "metadata": {
    "ExecuteTime": {
     "end_time": "2018-04-20T08:25:50.271826Z",
     "start_time": "2018-04-20T08:25:50.256513Z"
    }
   },
   "outputs": [
    {
     "name": "stdout",
     "output_type": "stream",
     "text": [
      "Layer 0 \tmax difference between gradients: 2.86102294921875e-06\n",
      "Layer 1 \tmax difference between gradients: 2.5033950805664062e-06\n",
      "Layer 2 \tmax difference between gradients: 1.1920928955078125e-06\n",
      "Layer 3 \tmax difference between gradients: 1.0728836059570312e-06\n",
      "Layer 4 \tmax difference between gradients: 7.152557373046875e-07\n",
      "Layer 5 \tmax difference between gradients: 1.0728836059570312e-06\n",
      "Layer 6 \tmax difference between gradients: 8.344650268554688e-07\n",
      "Layer 7 \tmax difference between gradients: 7.152557373046875e-07\n",
      "Layer 8 \tmax difference between gradients: 5.960464477539062e-07\n",
      "Layer 9 \tmax difference between gradients: 4.76837158203125e-07\n",
      "Layer 10 \tmax difference between gradients: 4.76837158203125e-07\n",
      "Layer 11 \tmax difference between gradients: 0.0\n",
      "Layer 12 \tmax difference between gradients: 0.0\n",
      "Layer 13 \tmax difference between gradients: 0.0\n",
      "Layer 14 \tmax difference between gradients: 0.0\n",
      "Layer 15 \tmax difference between gradients: 0.0\n",
      "Layer 16 \tmax difference between gradients: 0.0\n"
     ]
    }
   ],
   "source": [
    "for i in range(len(streaming_conv_gradients)):\n",
    "    max_diff = torch.max(torch.abs(streaming_conv_gradients[i].data - \n",
    "                      normal_conv_gradients[i].data))\n",
    "    print(\"Layer\", i, \"\\tmax difference between gradients:\", max_diff)"
   ]
  },
  {
   "cell_type": "markdown",
   "metadata": {},
   "source": [
    "As you can see the difference of the gradients of the conv2d layers between the methods is (almost) numerically equivalent. The small differences are because of loss of significance with the floating points calculations. "
   ]
  },
  {
   "cell_type": "markdown",
   "metadata": {},
   "source": [
    "---"
   ]
  },
  {
   "cell_type": "markdown",
   "metadata": {
    "collapsed": true
   },
   "source": [
    "# Things to try:\n",
    "\n",
    "* Use doubles instead of floats to reduce the difference (use model.double() and image_var.double())\n",
    "* Make the image bigger than would fit on a GPU \n",
    "    - e.g. 8194x8194, make sure to add 3 more blocks in the model (see comments)\n",
    "* If you want you can compare the reconstructed input gradients of each layer: \n",
    "    - pass fill_gradient=True in backward() function\n",
    "    - compare full_gradients with self.model.gradients after the full model backward pass.\n",
    "* For testing purposes the number of filters is small in this notebook, try increasing them"
   ]
  },
  {
   "cell_type": "code",
   "execution_count": null,
   "metadata": {
    "collapsed": true
   },
   "outputs": [],
   "source": []
  }
 ],
 "metadata": {
  "kernelspec": {
   "display_name": "Python 3",
   "language": "python",
   "name": "python3"
  },
  "language_info": {
   "codemirror_mode": {
    "name": "ipython",
    "version": 3
   },
   "file_extension": ".py",
   "mimetype": "text/x-python",
   "name": "python",
   "nbconvert_exporter": "python",
   "pygments_lexer": "ipython3",
   "version": "3.6.4"
  },
  "toc": {
   "nav_menu": {},
   "number_sections": true,
   "sideBar": false,
   "skip_h1_title": false,
   "title_cell": "Table of Contents",
   "title_sidebar": "Contents",
   "toc_cell": false,
   "toc_position": {
    "height": "154px",
    "left": "2276.98px",
    "top": "94.9219px",
    "width": "413px"
   },
   "toc_section_display": true,
   "toc_window_display": true
  }
 },
 "nbformat": 4,
 "nbformat_minor": 2
}
